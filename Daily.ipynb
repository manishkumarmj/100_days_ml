{
 "cells": [
  {
   "cell_type": "markdown",
   "id": "c2454138",
   "metadata": {},
   "source": [
    "# these are snipets which can used in daily basis "
   ]
  },
  {
   "cell_type": "code",
   "execution_count": 4,
   "id": "23e9094e",
   "metadata": {},
   "outputs": [],
   "source": [
    "import pandas as pd\n",
    "import seaborn as sns\n",
    "import matplotlib.pyplot as plt\n",
    "\n",
    "df=pd.read_csv('A:/AIML_DEV_FOLDER/ML_X/sefl_Learn/Day_20/train.csv')\n"
   ]
  },
  {
   "cell_type": "markdown",
   "id": "e48c4891",
   "metadata": {},
   "source": [
    "# color palette\n"
   ]
  },
  {
   "cell_type": "code",
   "execution_count": null,
   "id": "d393c2fb",
   "metadata": {},
   "outputs": [],
   "source": [
    "sns.countplot(x=df['Pclass'], palette='Set1')    # Bright distinct colors\n",
    "sns.countplot(x=df['Pclass'], palette='Set2')    # Medium distinct colors  \n",
    "sns.countplot(x=df['Pclass'], palette='Set3')    # Light distinct colors\n",
    "sns.countplot(x=df['Pclass'], palette='pastel')  # Soft pastel colors\n",
    "sns.countplot(x=df['Pclass'], palette='dark')    # Dark colors"
   ]
  }
 ],
 "metadata": {
  "kernelspec": {
   "display_name": "base",
   "language": "python",
   "name": "python3"
  },
  "language_info": {
   "codemirror_mode": {
    "name": "ipython",
    "version": 3
   },
   "file_extension": ".py",
   "mimetype": "text/x-python",
   "name": "python",
   "nbconvert_exporter": "python",
   "pygments_lexer": "ipython3",
   "version": "3.13.5"
  }
 },
 "nbformat": 4,
 "nbformat_minor": 5
}
