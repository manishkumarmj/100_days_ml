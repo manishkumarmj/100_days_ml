{
 "cells": [
  {
   "cell_type": "markdown",
   "id": "c2454138",
   "metadata": {},
   "source": [
    "# these are snipets which can used in daily basis "
   ]
  },
  {
   "cell_type": "code",
   "execution_count": 1,
   "id": "23e9094e",
   "metadata": {},
   "outputs": [],
   "source": [
    "import pandas as pd\n",
    "import seaborn as sns\n",
    "import matplotlib.pyplot as plt\n",
    "\n",
    "sopti=pd.read_csv('A:/AIML_DEV_FOLDER/ML_X/sefl_Learn/Day_20/train.csv')\n"
   ]
  },
  {
   "cell_type": "markdown",
   "id": "e48c4891",
   "metadata": {},
   "source": [
    "# color palette\n"
   ]
  },
  {
   "cell_type": "code",
   "execution_count": null,
   "id": "d393c2fb",
   "metadata": {},
   "outputs": [],
   "source": [
    "sns.countplot(x=df['Pclass'], palette='Set1')    # Bright distinct colors\n",
    "sns.countplot(x=df['Pclass'], palette='Set2')    # Medium distinct colors  \n",
    "sns.countplot(x=df['Pclass'], palette='Set3')    # Light distinct colors\n",
    "sns.countplot(x=df['Pclass'], palette='pastel')  # Soft pastel colors\n",
    "sns.countplot(x=df['Pclass'], palette='dark')    # Dark colors"
   ]
  },
  {
   "cell_type": "markdown",
   "id": "174ae4b8",
   "metadata": {},
   "source": [
    "# DropNa \n"
   ]
  },
  {
   "cell_type": "code",
   "execution_count": null,
   "id": "6a6439bc",
   "metadata": {},
   "outputs": [],
   "source": [
    "df = df.dropna()"
   ]
  },
  {
   "cell_type": "code",
   "execution_count": 2,
   "id": "3e854032",
   "metadata": {},
   "outputs": [],
   "source": [
    "# Fill all missing values with 0\n",
    "sopti = sopti.fillna(0)\n",
    "\n",
    "# Fill with a specific string\n",
    "sopti = sopti.fillna('Unknown')\n",
    "\n",
    "# Fill with a custom value\n",
    "sopti = sopti.fillna(-999)"
   ]
  },
  {
   "cell_type": "code",
   "execution_count": null,
   "id": "0ebd32f1",
   "metadata": {},
   "outputs": [],
   "source": [
    "# Fill numerical columns with their mean\n",
    "sopti = sopti.fillna(sopti.mean())\n",
    "\n",
    "# Fill with median (better for skewed data)\n",
    "sopti = sopti.fillna(sopti.median())\n",
    "\n",
    "# Fill categorical columns with mode (most frequent value)\n",
    "sopti = sopti.fillna(sopti.mode().iloc[0])"
   ]
  },
  {
   "cell_type": "code",
   "execution_count": null,
   "id": "92ea0cf8",
   "metadata": {},
   "outputs": [],
   "source": [
    "# Fill different columns with different values\n",
    "sopti = sopti.fillna({\n",
    "    'age': sopti['age'].mean(),\n",
    "    'gender': 'Unknown',\n",
    "    'subscription_type': sopti['subscription_type'].mode()[0],\n",
    "    'listen_time': 0\n",
    "})"
   ]
  },
  {
   "cell_type": "code",
   "execution_count": null,
   "id": "a0a391e2",
   "metadata": {},
   "outputs": [],
   "source": [
    "# Fill with previous value\n",
    "sopti = sopti.fillna(method='ffill')\n",
    "\n",
    "# Fill with next value\n",
    "sopti = sopti.fillna(method='bfill')\n",
    "\n",
    "# Limit the number of consecutive fills\n",
    "sopti = sopti.fillna(method='ffill', limit=2)"
   ]
  },
  {
   "cell_type": "code",
   "execution_count": null,
   "id": "7e84f936",
   "metadata": {},
   "outputs": [],
   "source": [
    "# See missing values first\n",
    "print(\"Missing values before filling:\")\n",
    "print(sopti.isnull().sum())\n",
    "\n",
    "# Fill based on data type\n",
    "for column in sopti.columns:\n",
    "    if sopti[column].dtype in ['int64', 'float64']:\n",
    "        sopti[column] = sopti[column].fillna(sopti[column].median())\n",
    "    else:\n",
    "        sopti[column] = sopti[column].fillna(sopti[column].mode()[0])\n",
    "\n",
    "print(\"Missing values after filling:\")\n",
    "print(sopti.isnull().sum())"
   ]
  },
  {
   "cell_type": "markdown",
   "id": "0c03a42a",
   "metadata": {},
   "source": [
    "# For Univariate Age Analysis:\n",
    "\n",
    "## Numerical Operations:\n",
    "\n",
    "sopti['age'].describe() - Summary stats\n",
    "\n",
    "sopti['age'].mean() - Average age\n",
    "\n",
    "sopti['age'].median() - Middle value\n",
    "\n",
    "sopti['age'].mode() - Most frequent age\n",
    "\n",
    "sopti['age'].std() - Spread/variation\n",
    "\n",
    "sopti['age'].skew() - Symmetry check\n",
    "\n",
    "Visualizations:\n",
    "\n",
    "Histogram: sns.histplot(data=sopti, x='age')\n",
    "\n",
    "Box plot: sns.boxplot(data=sopti, y='age')\n",
    "\n",
    "KDE plot: sns.kdeplot(data=sopti, x='age')\n",
    "\n",
    "Basic checks:\n",
    "\n",
    "sopti['age'].isnull().sum() - Missing values\n",
    "\n",
    "sopti['age'].value_counts() - Frequency distribution"
   ]
  },
  {
   "cell_type": "markdown",
   "id": "60dc270a",
   "metadata": {},
   "source": []
  }
 ],
 "metadata": {
  "kernelspec": {
   "display_name": "base",
   "language": "python",
   "name": "python3"
  },
  "language_info": {
   "codemirror_mode": {
    "name": "ipython",
    "version": 3
   },
   "file_extension": ".py",
   "mimetype": "text/x-python",
   "name": "python",
   "nbconvert_exporter": "python",
   "pygments_lexer": "ipython3",
   "version": "3.13.5"
  }
 },
 "nbformat": 4,
 "nbformat_minor": 5
}
