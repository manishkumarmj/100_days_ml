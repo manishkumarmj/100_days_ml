{
 "cells": [
  {
   "cell_type": "code",
   "execution_count": 2,
   "id": "79b43e87",
   "metadata": {},
   "outputs": [],
   "source": [
    "def is_even(num):\n",
    "    \"\"\"\n",
    "this Fucntion tell you if the number you enter is even or not \n",
    "input any valid interger  \n",
    "ouput -odd/even  \n",
    "le - 23-10-25      \n",
    "    \"\"\"\n",
    "    if num % 2 == 0:\n",
    "        return \"even\"\n",
    "    else: return \"odd\"\n"
   ]
  },
  {
   "cell_type": "markdown",
   "id": "9cbe9f86",
   "metadata": {},
   "source": []
  },
  {
   "cell_type": "markdown",
   "id": "a853b36c",
   "metadata": {},
   "source": [
    "# .__ doc __ \n",
    "it will add comments \n"
   ]
  },
  {
   "cell_type": "code",
   "execution_count": 3,
   "id": "0e1b7bfd",
   "metadata": {},
   "outputs": [
    {
     "name": "stdout",
     "output_type": "stream",
     "text": [
      "odd\n",
      "even\n",
      "odd\n",
      "even\n",
      "odd\n",
      "even\n",
      "odd\n",
      "even\n",
      "odd\n",
      "even\n",
      "\n",
      "this Fucntion tell you if the number you enter is even or not \n",
      "input any valid interger  \n",
      "ouput -odd/even  \n",
      "le - 23-10-25      \n",
      "    \n"
     ]
    }
   ],
   "source": [
    "for i in  range(1,11):\n",
    "    print (is_even(i))\n",
    "print(is_even.__doc__)"
   ]
  },
  {
   "cell_type": "markdown",
   "id": "17197cb6",
   "metadata": {},
   "source": [
    " # the 2 point of views"
   ]
  },
  {
   "cell_type": "markdown",
   "id": "65b31f20",
   "metadata": {},
   "source": [
    "let suppose if you save a file in python> python version> lib > then it will became a function   \n",
    "and we can call this function by using the name of the function."
   ]
  },
  {
   "cell_type": "markdown",
   "id": "668a57fd",
   "metadata": {},
   "source": [
    "step 1 - create a function  \n",
    "step 2 - add comments to your code  \n",
    "step 3 - save it to libary folder  \n",
    "step 4 - import it using name ( how u save it )  \n",
    "step 5 - call the function by its name  \"\"\" import day52_evenodd\"\"\"  "
   ]
  },
  {
   "cell_type": "markdown",
   "id": "63aebcdf",
   "metadata": {},
   "source": [
    "# how does a function excute in menmory "
   ]
  },
  {
   "cell_type": "markdown",
   "id": "0906a694",
   "metadata": {},
   "source": [
    "[how does code work](https://pythontutor.com/)  "
   ]
  },
  {
   "cell_type": "markdown",
   "id": "05bf1112",
   "metadata": {},
   "source": [
    "# argumnet \n"
   ]
  },
  {
   "cell_type": "code",
   "execution_count": 2,
   "id": "532e1bbb",
   "metadata": {},
   "outputs": [],
   "source": [
    "def power(a,b):\n",
    "    return a**b"
   ]
  },
  {
   "cell_type": "code",
   "execution_count": 3,
   "id": "4c913169",
   "metadata": {},
   "outputs": [
    {
     "data": {
      "text/plain": [
       "1"
      ]
     },
     "execution_count": 3,
     "metadata": {},
     "output_type": "execute_result"
    }
   ],
   "source": [
    "power (9,0)"
   ]
  },
  {
   "cell_type": "code",
   "execution_count": 4,
   "id": "2c6d4afc",
   "metadata": {},
   "outputs": [
    {
     "ename": "TypeError",
     "evalue": "power() missing 1 required positional argument: 'b'",
     "output_type": "error",
     "traceback": [
      "\u001b[1;31m---------------------------------------------------------------------------\u001b[0m",
      "\u001b[1;31mTypeError\u001b[0m                                 Traceback (most recent call last)",
      "Cell \u001b[1;32mIn[4], line 1\u001b[0m\n\u001b[1;32m----> 1\u001b[0m power(\u001b[38;5;241m20\u001b[39m)\n",
      "\u001b[1;31mTypeError\u001b[0m: power() missing 1 required positional argument: 'b'"
     ]
    }
   ],
   "source": [
    "power(20)"
   ]
  },
  {
   "cell_type": "markdown",
   "id": "231c3a59",
   "metadata": {},
   "source": [
    "# to sopt crashing we will use \n",
    "default arcument "
   ]
  },
  {
   "cell_type": "code",
   "execution_count": 5,
   "id": "845db8e4",
   "metadata": {},
   "outputs": [],
   "source": [
    "def power(a=1,b=1):# here it fixed default value \n",
    "    return a**b"
   ]
  },
  {
   "cell_type": "code",
   "execution_count": 6,
   "id": "48a87712",
   "metadata": {},
   "outputs": [
    {
     "data": {
      "text/plain": [
       "8"
      ]
     },
     "execution_count": 6,
     "metadata": {},
     "output_type": "execute_result"
    }
   ],
   "source": [
    "power(2,3)"
   ]
  },
  {
   "cell_type": "code",
   "execution_count": 7,
   "id": "57becdc6",
   "metadata": {},
   "outputs": [
    {
     "data": {
      "text/plain": [
       "2"
      ]
     },
     "execution_count": 7,
     "metadata": {},
     "output_type": "execute_result"
    }
   ],
   "source": [
    "power(2)"
   ]
  },
  {
   "cell_type": "code",
   "execution_count": 8,
   "id": "dc79fdc8",
   "metadata": {},
   "outputs": [
    {
     "data": {
      "text/plain": [
       "0"
      ]
     },
     "execution_count": 8,
     "metadata": {},
     "output_type": "execute_result"
    }
   ],
   "source": [
    "power(0,2)"
   ]
  },
  {
   "cell_type": "markdown",
   "id": "61bda839",
   "metadata": {},
   "source": [
    "# positional argument "
   ]
  },
  {
   "cell_type": "code",
   "execution_count": 9,
   "id": "048bdc25",
   "metadata": {},
   "outputs": [
    {
     "data": {
      "text/plain": [
       "16"
      ]
     },
     "execution_count": 9,
     "metadata": {},
     "output_type": "execute_result"
    }
   ],
   "source": [
    "power(b=2,a=4)"
   ]
  },
  {
   "cell_type": "code",
   "execution_count": 13,
   "id": "eab82ed6",
   "metadata": {},
   "outputs": [],
   "source": [
    "def flexi(*number): # * number -> variabale packet which convets it into packet -> *number -> number\n",
    "## keyword argument\n",
    "\n",
    "    product =1\n",
    "    for num in number:\n",
    "        print(type(number))\n",
    "        print (num)\n",
    "        product *= num\n",
    "    print (product)"
   ]
  },
  {
   "cell_type": "code",
   "execution_count": 11,
   "id": "3e75c1f9",
   "metadata": {},
   "outputs": [
    {
     "name": "stdout",
     "output_type": "stream",
     "text": [
      "1\n",
      "1\n"
     ]
    }
   ],
   "source": [
    "flexi(1)"
   ]
  },
  {
   "cell_type": "code",
   "execution_count": 14,
   "id": "fb39e764",
   "metadata": {},
   "outputs": [
    {
     "name": "stdout",
     "output_type": "stream",
     "text": [
      "<class 'tuple'>\n",
      "1\n",
      "<class 'tuple'>\n",
      "2\n",
      "2\n"
     ]
    }
   ],
   "source": [
    "flexi(1,2)"
   ]
  },
  {
   "cell_type": "markdown",
   "id": "c488b17e",
   "metadata": {},
   "source": []
  },
  {
   "cell_type": "code",
   "execution_count": 20,
   "id": "63180056",
   "metadata": {},
   "outputs": [],
   "source": [
    "def func_a():\n",
    "    print('inside func_a')\n",
    "\n",
    "def func_b(y):\n",
    "    print('inside func_b')\n",
    "    return y\n",
    "def func_aa():\n",
    "    print('inside func_a')\n",
    "    return \"lund\""
   ]
  },
  {
   "cell_type": "code",
   "execution_count": 22,
   "id": "115d3990",
   "metadata": {},
   "outputs": [
    {
     "name": "stdout",
     "output_type": "stream",
     "text": [
      "inside func_a\n",
      "None\n",
      "inside func_a\n",
      "lund\n"
     ]
    }
   ],
   "source": [
    "#print(func_a)\n",
    "print(func_a())\n",
    "# there is nothing to retunr then ansewer will be none \n",
    "print(func_aa())"
   ]
  },
  {
   "cell_type": "code",
   "execution_count": 23,
   "id": "9a28ff17",
   "metadata": {},
   "outputs": [
    {
     "name": "stdout",
     "output_type": "stream",
     "text": [
      "inside func_b\n",
      "7\n"
     ]
    }
   ],
   "source": [
    "print(func_b(2)+5)"
   ]
  },
  {
   "cell_type": "code",
   "execution_count": 24,
   "id": "02a6d61e",
   "metadata": {},
   "outputs": [
    {
     "name": "stdout",
     "output_type": "stream",
     "text": [
      "2\n",
      "5\n"
     ]
    }
   ],
   "source": [
    "def f(y):\n",
    "    x= 1\n",
    "    x=x+1\n",
    "    print(x)\n",
    "x =5\n",
    "f(x)\n",
    "print(x)"
   ]
  },
  {
   "cell_type": "code",
   "execution_count": 26,
   "id": "c7e84a3e",
   "metadata": {},
   "outputs": [
    {
     "name": "stdout",
     "output_type": "stream",
     "text": [
      "5\n",
      "6\n",
      "5\n"
     ]
    }
   ],
   "source": [
    "def g(y):\n",
    "    print(x)  #5\n",
    "    print(x+1)#5\n",
    "x =5\n",
    "g(x)\n",
    "print(x)#5"
   ]
  },
  {
   "cell_type": "code",
   "execution_count": null,
   "id": "cd944e5b",
   "metadata": {},
   "outputs": [
    {
     "ename": "UnboundLocalError",
     "evalue": "cannot access local variable 'x' where it is not associated with a value",
     "output_type": "error",
     "traceback": [
      "\u001b[1;31m---------------------------------------------------------------------------\u001b[0m",
      "\u001b[1;31mUnboundLocalError\u001b[0m                         Traceback (most recent call last)",
      "Cell \u001b[1;32mIn[1], line 4\u001b[0m\n\u001b[0;32m      2\u001b[0m     x\u001b[38;5;241m+\u001b[39m\u001b[38;5;241m=\u001b[39m\u001b[38;5;241m1\u001b[39m \u001b[38;5;66;03m# hence x global variable needed with out that error \u001b[39;00m\n\u001b[0;32m      3\u001b[0m x\u001b[38;5;241m=\u001b[39m\u001b[38;5;241m5\u001b[39m\n\u001b[1;32m----> 4\u001b[0m h(x)\n\u001b[0;32m      5\u001b[0m \u001b[38;5;28mprint\u001b[39m(x)\n",
      "Cell \u001b[1;32mIn[1], line 2\u001b[0m, in \u001b[0;36mh\u001b[1;34m(y)\u001b[0m\n\u001b[0;32m      1\u001b[0m \u001b[38;5;28;01mdef\u001b[39;00m\u001b[38;5;250m \u001b[39m\u001b[38;5;21mh\u001b[39m(y):\n\u001b[1;32m----> 2\u001b[0m     x\u001b[38;5;241m+\u001b[39m\u001b[38;5;241m=\u001b[39m\u001b[38;5;241m1\u001b[39m\n",
      "\u001b[1;31mUnboundLocalError\u001b[0m: cannot access local variable 'x' where it is not associated with a value"
     ]
    }
   ],
   "source": [
    "def h(y):\n",
    "    x+=1 # hence x global variable needed with out that error or use use global x\n",
    "x=5\n",
    "h(x)\n",
    "print(x)"
   ]
  },
  {
   "cell_type": "code",
   "execution_count": 2,
   "id": "c1717f91",
   "metadata": {},
   "outputs": [
    {
     "name": "stdout",
     "output_type": "stream",
     "text": [
      "in f (x)= 4\n",
      "in main program scope: z=  4\n",
      "in main program scope: x=  3\n"
     ]
    }
   ],
   "source": [
    "def f(x):\n",
    "    x= x+1\n",
    "    print('in f (x)=',x)\n",
    "    return x\n",
    "x=3 \n",
    "z=f(x)\n",
    "print('in main program scope: z= ',z)\n",
    "print('in main program scope: x= ',x) "
   ]
  },
  {
   "cell_type": "code",
   "execution_count": 3,
   "id": "6071d2ae",
   "metadata": {},
   "outputs": [
    {
     "name": "stdout",
     "output_type": "stream",
     "text": [
      "in g(x) =  4\n",
      "in h(x): x = 5\n",
      "in main program scope: x =  3\n",
      "in main program scope: z =  4\n"
     ]
    }
   ],
   "source": [
    "def g(x):\n",
    "    def h(x):\n",
    "        x=x+1 #5\n",
    "        print('in h(x): x =',x) #%\n",
    "    x= x+1   # 3+1 = 4\n",
    "    print('in g(x) = ', x ) # 4\n",
    "    h(x)\n",
    "    return x # 4\n",
    "x=3\n",
    "z=g(x)\n",
    "print('in main program scope: x = ',x) # 3\n",
    "print('in main program scope: z = ',z)# 4"
   ]
  },
  {
   "cell_type": "code",
   "execution_count": null,
   "id": "c6529c16",
   "metadata": {},
   "outputs": [],
   "source": []
  }
 ],
 "metadata": {
  "kernelspec": {
   "display_name": "base",
   "language": "python",
   "name": "python3"
  },
  "language_info": {
   "codemirror_mode": {
    "name": "ipython",
    "version": 3
   },
   "file_extension": ".py",
   "mimetype": "text/x-python",
   "name": "python",
   "nbconvert_exporter": "python",
   "pygments_lexer": "ipython3",
   "version": "3.13.5"
  }
 },
 "nbformat": 4,
 "nbformat_minor": 5
}
