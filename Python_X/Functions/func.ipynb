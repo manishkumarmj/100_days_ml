{
 "cells": [
  {
   "cell_type": "code",
   "execution_count": 3,
   "id": "89c51e0d",
   "metadata": {},
   "outputs": [],
   "source": [
    "num = 5"
   ]
  },
  {
   "cell_type": "code",
   "execution_count": null,
   "id": "79b43e87",
   "metadata": {},
   "outputs": [],
   "source": [
    "def is_even(num):\n",
    "    \"\"\"\n",
    "this Fucntion tell you if the number you enter is even or not \n",
    "input any valid interger  \n",
    "ouput -odd/even  \n",
    "le - 23-10-25      \n",
    "    \"\"\"\n",
    "    if num % 2 == 0:\n",
    "        return \"even\"\n",
    "    else: return \"odd\"\n"
   ]
  },
  {
   "cell_type": "code",
   "execution_count": 11,
   "id": "0e1b7bfd",
   "metadata": {},
   "outputs": [
    {
     "name": "stdout",
     "output_type": "stream",
     "text": [
      "odd\n",
      "even\n",
      "odd\n",
      "even\n",
      "odd\n",
      "even\n",
      "odd\n",
      "even\n",
      "odd\n",
      "even\n",
      "\n",
      "this Fucntion tell you if the number you enter is even or not\n",
      "input any valid interger\n",
      "ouput -odd/even\n",
      "le - 23-10-25    \n",
      "    \n"
     ]
    }
   ],
   "source": [
    "for i in  range(1,11):\n",
    "    print (is_even(i))\n",
    "print(is_even.__doc__)"
   ]
  },
  {
   "cell_type": "code",
   "execution_count": null,
   "id": "7cb0ca96",
   "metadata": {},
   "outputs": [
    {
     "ename": "NameError",
     "evalue": "name 'is_even__doc__' is not defined",
     "output_type": "error",
     "traceback": [
      "\u001b[1;31m---------------------------------------------------------------------------\u001b[0m",
      "\u001b[1;31mNameError\u001b[0m                                 Traceback (most recent call last)",
      "Cell \u001b[1;32mIn[9], line 1\u001b[0m\n\u001b[1;32m----> 1\u001b[0m \u001b[38;5;28mprint\u001b[39m(is_even__doc__)\n",
      "\u001b[1;31mNameError\u001b[0m: name 'is_even__doc__' is not defined"
     ]
    }
   ],
   "source": []
  },
  {
   "cell_type": "code",
   "execution_count": null,
   "id": "4c913169",
   "metadata": {},
   "outputs": [],
   "source": []
  }
 ],
 "metadata": {
  "kernelspec": {
   "display_name": "base",
   "language": "python",
   "name": "python3"
  },
  "language_info": {
   "codemirror_mode": {
    "name": "ipython",
    "version": 3
   },
   "file_extension": ".py",
   "mimetype": "text/x-python",
   "name": "python",
   "nbconvert_exporter": "python",
   "pygments_lexer": "ipython3",
   "version": "3.13.5"
  }
 },
 "nbformat": 4,
 "nbformat_minor": 5
}
