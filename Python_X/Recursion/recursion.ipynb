{
 "cells": [
  {
   "cell_type": "markdown",
   "id": "be3f6def",
   "metadata": {},
   "source": [
    "1. you not need to run \n",
    "2. "
   ]
  },
  {
   "cell_type": "code",
   "execution_count": 2,
   "id": "49140795",
   "metadata": {},
   "outputs": [
    {
     "name": "stdout",
     "output_type": "stream",
     "text": [
      "12\n"
     ]
    }
   ],
   "source": [
    "\n",
    "def multiply(a,b):\n",
    "    result  = 0\n",
    "    for i in range(b):\n",
    "        result = result + a\n",
    "    print(result)\n",
    "multiply(3,4)"
   ]
  },
  {
   "cell_type": "markdown",
   "id": "f43754a6",
   "metadata": {},
   "source": [
    "Same code for recursion\n",
    "1st. you determine base case\n",
    "2nd. you break you code into smaller pieces\n"
   ]
  },
  {
   "cell_type": "markdown",
   "id": "bb030bf8",
   "metadata": {},
   "source": [
    "palindrome \n"
   ]
  },
  {
   "cell_type": "code",
   "execution_count": 6,
   "id": "276d424a",
   "metadata": {},
   "outputs": [
    {
     "name": "stdout",
     "output_type": "stream",
     "text": [
      "yes its  a palindrome\n",
      "Not a palindrome\n"
     ]
    }
   ],
   "source": [
    "def palindrome(text):\n",
    "    if len(text)<=1:\n",
    "        print(\"yes its  a palindrome\")\n",
    "    else:\n",
    "        if text[0]==text[-1]:\n",
    "            palindrome(text[1:-1])\n",
    "        else: \n",
    "            print('Not a palindrome')\n",
    "palindrome('101')\n",
    "palindrome('102')\n"
   ]
  },
  {
   "cell_type": "code",
   "execution_count": null,
   "id": "4ce38081",
   "metadata": {},
   "outputs": [],
   "source": []
  }
 ],
 "metadata": {
  "kernelspec": {
   "display_name": "base",
   "language": "python",
   "name": "python3"
  },
  "language_info": {
   "codemirror_mode": {
    "name": "ipython",
    "version": 3
   },
   "file_extension": ".py",
   "mimetype": "text/x-python",
   "name": "python",
   "nbconvert_exporter": "python",
   "pygments_lexer": "ipython3",
   "version": "3.13.5"
  }
 },
 "nbformat": 4,
 "nbformat_minor": 5
}
