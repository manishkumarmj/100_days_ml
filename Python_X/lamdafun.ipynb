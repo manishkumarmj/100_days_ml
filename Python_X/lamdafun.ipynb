{
 "cells": [
  {
   "cell_type": "code",
   "execution_count": 2,
   "id": "e2edf897",
   "metadata": {},
   "outputs": [
    {
     "data": {
      "text/plain": [
       "100"
      ]
     },
     "execution_count": 2,
     "metadata": {},
     "output_type": "execute_result"
    }
   ],
   "source": [
    "x=lambda x :x**2\n",
    "x(10)"
   ]
  },
  {
   "cell_type": "code",
   "execution_count": 3,
   "id": "1790c884",
   "metadata": {},
   "outputs": [],
   "source": [
    "a= lambda x,y:x+y"
   ]
  },
  {
   "cell_type": "code",
   "execution_count": 4,
   "id": "98a748ef",
   "metadata": {},
   "outputs": [
    {
     "data": {
      "text/plain": [
       "71958175"
      ]
     },
     "execution_count": 4,
     "metadata": {},
     "output_type": "execute_result"
    }
   ],
   "source": [
    "a(65416521,6541654)"
   ]
  },
  {
   "cell_type": "markdown",
   "id": "5b0de633",
   "metadata": {},
   "source": [
    "# diffrence \n",
    "|   lamda              |                function  |\n",
    "|:----          |-------------: |\n",
    "|   no return value                   |              return value |\n",
    "|            full fucntion is returned <class function >     |         retrun type value are returned          |\n",
    "|only one line of code is possible | multiple lines of codes can be executed|\n",
    "|code reusablity | resue |\n",
    "|no name |name of power|\n"
   ]
  },
  {
   "cell_type": "markdown",
   "id": "d21ce6e1",
   "metadata": {},
   "source": [
    "# why  \n",
    "1. to work along the higer fnction \n",
    "  \n",
    "            higher function = function + input needed"
   ]
  },
  {
   "cell_type": "markdown",
   "id": "d671ca53",
   "metadata": {},
   "source": []
  }
 ],
 "metadata": {
  "kernelspec": {
   "display_name": "base",
   "language": "python",
   "name": "python3"
  },
  "language_info": {
   "codemirror_mode": {
    "name": "ipython",
    "version": 3
   },
   "file_extension": ".py",
   "mimetype": "text/x-python",
   "name": "python",
   "nbconvert_exporter": "python",
   "pygments_lexer": "ipython3",
   "version": "3.13.5"
  }
 },
 "nbformat": 4,
 "nbformat_minor": 5
}
