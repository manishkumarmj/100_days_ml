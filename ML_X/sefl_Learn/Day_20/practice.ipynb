{
 "cells": [
  {
   "cell_type": "code",
   "execution_count": 60,
   "id": "5b3ea5f6",
   "metadata": {},
   "outputs": [],
   "source": [
    "import pandas as pd\n",
    "import seaborn as sns\n",
    "import matplotlib.pyplot as plt\n",
    "import numpy as np\n"
   ]
  },
  {
   "cell_type": "code",
   "execution_count": 61,
   "id": "82366832",
   "metadata": {},
   "outputs": [],
   "source": [
    "spoti =pd.read_csv('spotify_churn_dataset.csv') \n"
   ]
  },
  {
   "cell_type": "code",
   "execution_count": 62,
   "id": "4c8dd94c",
   "metadata": {},
   "outputs": [
    {
     "data": {
      "application/vnd.microsoft.datawrangler.viewer.v0+json": {
       "columns": [
        {
         "name": "index",
         "rawType": "int64",
         "type": "integer"
        },
        {
         "name": "user_id",
         "rawType": "int64",
         "type": "integer"
        },
        {
         "name": "gender",
         "rawType": "object",
         "type": "string"
        },
        {
         "name": "age",
         "rawType": "int64",
         "type": "integer"
        },
        {
         "name": "country",
         "rawType": "object",
         "type": "string"
        },
        {
         "name": "subscription_type",
         "rawType": "object",
         "type": "string"
        },
        {
         "name": "listening_time",
         "rawType": "int64",
         "type": "integer"
        },
        {
         "name": "songs_played_per_day",
         "rawType": "int64",
         "type": "integer"
        },
        {
         "name": "skip_rate",
         "rawType": "float64",
         "type": "float"
        },
        {
         "name": "device_type",
         "rawType": "object",
         "type": "string"
        },
        {
         "name": "ads_listened_per_week",
         "rawType": "int64",
         "type": "integer"
        },
        {
         "name": "offline_listening",
         "rawType": "int64",
         "type": "integer"
        },
        {
         "name": "is_churned",
         "rawType": "int64",
         "type": "integer"
        }
       ],
       "ref": "a96eb396-94f9-40e6-8790-d372a65db67d",
       "rows": [
        [
         "6484",
         "6485",
         "Other",
         "21",
         "PK",
         "Premium",
         "82",
         "73",
         "0.26",
         "Mobile",
         "0",
         "1",
         "1"
        ],
        [
         "2494",
         "2495",
         "Male",
         "38",
         "UK",
         "Family",
         "82",
         "24",
         "0.52",
         "Web",
         "0",
         "1",
         "1"
        ],
        [
         "4669",
         "4670",
         "Female",
         "32",
         "AU",
         "Student",
         "243",
         "79",
         "0.36",
         "Desktop",
         "0",
         "1",
         "1"
        ],
        [
         "6872",
         "6873",
         "Male",
         "39",
         "AU",
         "Student",
         "240",
         "73",
         "0.39",
         "Web",
         "0",
         "1",
         "0"
        ],
        [
         "5271",
         "5272",
         "Female",
         "49",
         "UK",
         "Premium",
         "56",
         "51",
         "0.31",
         "Mobile",
         "0",
         "1",
         "0"
        ],
        [
         "4619",
         "4620",
         "Other",
         "33",
         "AU",
         "Family",
         "50",
         "79",
         "0.14",
         "Desktop",
         "0",
         "1",
         "1"
        ],
        [
         "7239",
         "7240",
         "Other",
         "52",
         "AU",
         "Student",
         "258",
         "49",
         "0.51",
         "Mobile",
         "0",
         "1",
         "0"
        ],
        [
         "3590",
         "3591",
         "Female",
         "44",
         "PK",
         "Free",
         "68",
         "32",
         "0.18",
         "Web",
         "35",
         "0",
         "1"
        ],
        [
         "2836",
         "2837",
         "Male",
         "36",
         "UK",
         "Student",
         "155",
         "77",
         "0.31",
         "Desktop",
         "0",
         "1",
         "0"
        ],
        [
         "7940",
         "7941",
         "Female",
         "31",
         "AU",
         "Premium",
         "237",
         "57",
         "0.59",
         "Mobile",
         "0",
         "1",
         "0"
        ],
        [
         "4915",
         "4916",
         "Other",
         "41",
         "CA",
         "Free",
         "246",
         "25",
         "0.29",
         "Mobile",
         "21",
         "0",
         "0"
        ],
        [
         "7573",
         "7574",
         "Female",
         "37",
         "IN",
         "Premium",
         "108",
         "97",
         "0.21",
         "Mobile",
         "0",
         "1",
         "0"
        ],
        [
         "398",
         "399",
         "Male",
         "21",
         "AU",
         "Student",
         "59",
         "34",
         "0.11",
         "Web",
         "0",
         "1",
         "0"
        ],
        [
         "6975",
         "6976",
         "Male",
         "45",
         "US",
         "Family",
         "162",
         "28",
         "0.23",
         "Web",
         "0",
         "1",
         "0"
        ],
        [
         "4427",
         "4428",
         "Male",
         "48",
         "IN",
         "Family",
         "176",
         "65",
         "0.11",
         "Mobile",
         "0",
         "1",
         "0"
        ],
        [
         "1918",
         "1919",
         "Male",
         "24",
         "PK",
         "Family",
         "276",
         "46",
         "0.16",
         "Desktop",
         "0",
         "1",
         "0"
        ],
        [
         "1041",
         "1042",
         "Male",
         "56",
         "UK",
         "Premium",
         "273",
         "21",
         "0.31",
         "Mobile",
         "0",
         "1",
         "0"
        ],
        [
         "2554",
         "2555",
         "Male",
         "29",
         "IN",
         "Free",
         "110",
         "46",
         "0.17",
         "Mobile",
         "22",
         "0",
         "0"
        ],
        [
         "1263",
         "1264",
         "Male",
         "42",
         "UK",
         "Family",
         "193",
         "66",
         "0.22",
         "Mobile",
         "0",
         "1",
         "0"
        ],
        [
         "2315",
         "2316",
         "Female",
         "43",
         "UK",
         "Free",
         "288",
         "22",
         "0.53",
         "Web",
         "49",
         "0",
         "1"
        ],
        [
         "3398",
         "3399",
         "Male",
         "57",
         "US",
         "Family",
         "189",
         "59",
         "0.59",
         "Web",
         "0",
         "1",
         "0"
        ],
        [
         "3317",
         "3318",
         "Male",
         "33",
         "US",
         "Student",
         "278",
         "70",
         "0.24",
         "Web",
         "0",
         "1",
         "0"
        ],
        [
         "2364",
         "2365",
         "Male",
         "52",
         "CA",
         "Premium",
         "15",
         "67",
         "0.41",
         "Desktop",
         "0",
         "1",
         "1"
        ],
        [
         "7425",
         "7426",
         "Other",
         "34",
         "DE",
         "Premium",
         "187",
         "41",
         "0.59",
         "Mobile",
         "0",
         "1",
         "0"
        ],
        [
         "1591",
         "1592",
         "Female",
         "59",
         "AU",
         "Free",
         "88",
         "32",
         "0.1",
         "Mobile",
         "22",
         "0",
         "0"
        ],
        [
         "5252",
         "5253",
         "Female",
         "36",
         "PK",
         "Student",
         "205",
         "21",
         "0.36",
         "Mobile",
         "0",
         "1",
         "0"
        ],
        [
         "5762",
         "5763",
         "Other",
         "42",
         "CA",
         "Family",
         "272",
         "5",
         "0.39",
         "Desktop",
         "0",
         "1",
         "0"
        ],
        [
         "7336",
         "7337",
         "Male",
         "19",
         "UK",
         "Free",
         "244",
         "84",
         "0.24",
         "Web",
         "9",
         "0",
         "0"
        ],
        [
         "5871",
         "5872",
         "Male",
         "54",
         "IN",
         "Student",
         "243",
         "93",
         "0.51",
         "Mobile",
         "0",
         "1",
         "0"
        ],
        [
         "3271",
         "3272",
         "Female",
         "50",
         "PK",
         "Student",
         "231",
         "90",
         "0.06",
         "Mobile",
         "0",
         "1",
         "0"
        ],
        [
         "3452",
         "3453",
         "Other",
         "42",
         "AU",
         "Premium",
         "85",
         "12",
         "0.27",
         "Desktop",
         "0",
         "1",
         "0"
        ],
        [
         "4261",
         "4262",
         "Female",
         "48",
         "AU",
         "Premium",
         "40",
         "8",
         "0.29",
         "Mobile",
         "0",
         "1",
         "1"
        ],
        [
         "5027",
         "5028",
         "Male",
         "22",
         "US",
         "Premium",
         "269",
         "11",
         "0.06",
         "Mobile",
         "0",
         "1",
         "0"
        ],
        [
         "5121",
         "5122",
         "Female",
         "49",
         "IN",
         "Premium",
         "214",
         "41",
         "0.59",
         "Desktop",
         "0",
         "1",
         "1"
        ],
        [
         "2211",
         "2212",
         "Other",
         "47",
         "AU",
         "Free",
         "58",
         "17",
         "0.42",
         "Desktop",
         "46",
         "0",
         "0"
        ],
        [
         "3316",
         "3317",
         "Other",
         "49",
         "FR",
         "Family",
         "155",
         "13",
         "0.32",
         "Desktop",
         "0",
         "1",
         "1"
        ],
        [
         "6566",
         "6567",
         "Male",
         "20",
         "CA",
         "Student",
         "26",
         "81",
         "0.54",
         "Desktop",
         "0",
         "1",
         "0"
        ],
        [
         "7721",
         "7722",
         "Female",
         "45",
         "CA",
         "Premium",
         "26",
         "28",
         "0.41",
         "Mobile",
         "0",
         "1",
         "0"
        ],
        [
         "2380",
         "2381",
         "Male",
         "35",
         "CA",
         "Free",
         "204",
         "22",
         "0.5",
         "Desktop",
         "31",
         "0",
         "0"
        ],
        [
         "1484",
         "1485",
         "Female",
         "49",
         "AU",
         "Premium",
         "213",
         "85",
         "0.15",
         "Desktop",
         "0",
         "1",
         "1"
        ],
        [
         "7390",
         "7391",
         "Other",
         "17",
         "UK",
         "Free",
         "48",
         "34",
         "0.48",
         "Mobile",
         "44",
         "0",
         "0"
        ],
        [
         "6243",
         "6244",
         "Other",
         "29",
         "US",
         "Family",
         "279",
         "6",
         "0.46",
         "Web",
         "0",
         "1",
         "0"
        ],
        [
         "3368",
         "3369",
         "Male",
         "35",
         "UK",
         "Free",
         "170",
         "78",
         "0.28",
         "Desktop",
         "39",
         "0",
         "0"
        ],
        [
         "755",
         "756",
         "Other",
         "17",
         "UK",
         "Free",
         "206",
         "27",
         "0.42",
         "Desktop",
         "49",
         "0",
         "0"
        ],
        [
         "1976",
         "1977",
         "Female",
         "39",
         "CA",
         "Free",
         "51",
         "11",
         "0.56",
         "Mobile",
         "23",
         "0",
         "1"
        ],
        [
         "4804",
         "4805",
         "Male",
         "28",
         "US",
         "Student",
         "256",
         "84",
         "0.21",
         "Mobile",
         "0",
         "1",
         "0"
        ],
        [
         "4093",
         "4094",
         "Male",
         "40",
         "AU",
         "Free",
         "121",
         "2",
         "0.53",
         "Desktop",
         "38",
         "0",
         "0"
        ],
        [
         "3944",
         "3945",
         "Male",
         "24",
         "AU",
         "Family",
         "67",
         "43",
         "0.58",
         "Web",
         "0",
         "1",
         "0"
        ],
        [
         "1276",
         "1277",
         "Male",
         "27",
         "FR",
         "Premium",
         "205",
         "53",
         "0.42",
         "Mobile",
         "0",
         "1",
         "1"
        ],
        [
         "1435",
         "1436",
         "Male",
         "42",
         "AU",
         "Family",
         "160",
         "91",
         "0.27",
         "Mobile",
         "0",
         "1",
         "0"
        ]
       ],
       "shape": {
        "columns": 12,
        "rows": 100
       }
      },
      "text/html": [
       "<div>\n",
       "<style scoped>\n",
       "    .dataframe tbody tr th:only-of-type {\n",
       "        vertical-align: middle;\n",
       "    }\n",
       "\n",
       "    .dataframe tbody tr th {\n",
       "        vertical-align: top;\n",
       "    }\n",
       "\n",
       "    .dataframe thead th {\n",
       "        text-align: right;\n",
       "    }\n",
       "</style>\n",
       "<table border=\"1\" class=\"dataframe\">\n",
       "  <thead>\n",
       "    <tr style=\"text-align: right;\">\n",
       "      <th></th>\n",
       "      <th>user_id</th>\n",
       "      <th>gender</th>\n",
       "      <th>age</th>\n",
       "      <th>country</th>\n",
       "      <th>subscription_type</th>\n",
       "      <th>listening_time</th>\n",
       "      <th>songs_played_per_day</th>\n",
       "      <th>skip_rate</th>\n",
       "      <th>device_type</th>\n",
       "      <th>ads_listened_per_week</th>\n",
       "      <th>offline_listening</th>\n",
       "      <th>is_churned</th>\n",
       "    </tr>\n",
       "  </thead>\n",
       "  <tbody>\n",
       "    <tr>\n",
       "      <th>6484</th>\n",
       "      <td>6485</td>\n",
       "      <td>Other</td>\n",
       "      <td>21</td>\n",
       "      <td>PK</td>\n",
       "      <td>Premium</td>\n",
       "      <td>82</td>\n",
       "      <td>73</td>\n",
       "      <td>0.26</td>\n",
       "      <td>Mobile</td>\n",
       "      <td>0</td>\n",
       "      <td>1</td>\n",
       "      <td>1</td>\n",
       "    </tr>\n",
       "    <tr>\n",
       "      <th>2494</th>\n",
       "      <td>2495</td>\n",
       "      <td>Male</td>\n",
       "      <td>38</td>\n",
       "      <td>UK</td>\n",
       "      <td>Family</td>\n",
       "      <td>82</td>\n",
       "      <td>24</td>\n",
       "      <td>0.52</td>\n",
       "      <td>Web</td>\n",
       "      <td>0</td>\n",
       "      <td>1</td>\n",
       "      <td>1</td>\n",
       "    </tr>\n",
       "    <tr>\n",
       "      <th>4669</th>\n",
       "      <td>4670</td>\n",
       "      <td>Female</td>\n",
       "      <td>32</td>\n",
       "      <td>AU</td>\n",
       "      <td>Student</td>\n",
       "      <td>243</td>\n",
       "      <td>79</td>\n",
       "      <td>0.36</td>\n",
       "      <td>Desktop</td>\n",
       "      <td>0</td>\n",
       "      <td>1</td>\n",
       "      <td>1</td>\n",
       "    </tr>\n",
       "    <tr>\n",
       "      <th>6872</th>\n",
       "      <td>6873</td>\n",
       "      <td>Male</td>\n",
       "      <td>39</td>\n",
       "      <td>AU</td>\n",
       "      <td>Student</td>\n",
       "      <td>240</td>\n",
       "      <td>73</td>\n",
       "      <td>0.39</td>\n",
       "      <td>Web</td>\n",
       "      <td>0</td>\n",
       "      <td>1</td>\n",
       "      <td>0</td>\n",
       "    </tr>\n",
       "    <tr>\n",
       "      <th>5271</th>\n",
       "      <td>5272</td>\n",
       "      <td>Female</td>\n",
       "      <td>49</td>\n",
       "      <td>UK</td>\n",
       "      <td>Premium</td>\n",
       "      <td>56</td>\n",
       "      <td>51</td>\n",
       "      <td>0.31</td>\n",
       "      <td>Mobile</td>\n",
       "      <td>0</td>\n",
       "      <td>1</td>\n",
       "      <td>0</td>\n",
       "    </tr>\n",
       "    <tr>\n",
       "      <th>...</th>\n",
       "      <td>...</td>\n",
       "      <td>...</td>\n",
       "      <td>...</td>\n",
       "      <td>...</td>\n",
       "      <td>...</td>\n",
       "      <td>...</td>\n",
       "      <td>...</td>\n",
       "      <td>...</td>\n",
       "      <td>...</td>\n",
       "      <td>...</td>\n",
       "      <td>...</td>\n",
       "      <td>...</td>\n",
       "    </tr>\n",
       "    <tr>\n",
       "      <th>3069</th>\n",
       "      <td>3070</td>\n",
       "      <td>Other</td>\n",
       "      <td>24</td>\n",
       "      <td>IN</td>\n",
       "      <td>Free</td>\n",
       "      <td>59</td>\n",
       "      <td>96</td>\n",
       "      <td>0.39</td>\n",
       "      <td>Mobile</td>\n",
       "      <td>30</td>\n",
       "      <td>0</td>\n",
       "      <td>0</td>\n",
       "    </tr>\n",
       "    <tr>\n",
       "      <th>1684</th>\n",
       "      <td>1685</td>\n",
       "      <td>Other</td>\n",
       "      <td>35</td>\n",
       "      <td>UK</td>\n",
       "      <td>Free</td>\n",
       "      <td>182</td>\n",
       "      <td>38</td>\n",
       "      <td>0.53</td>\n",
       "      <td>Web</td>\n",
       "      <td>40</td>\n",
       "      <td>0</td>\n",
       "      <td>0</td>\n",
       "    </tr>\n",
       "    <tr>\n",
       "      <th>1331</th>\n",
       "      <td>1332</td>\n",
       "      <td>Female</td>\n",
       "      <td>59</td>\n",
       "      <td>FR</td>\n",
       "      <td>Family</td>\n",
       "      <td>242</td>\n",
       "      <td>67</td>\n",
       "      <td>0.41</td>\n",
       "      <td>Desktop</td>\n",
       "      <td>0</td>\n",
       "      <td>1</td>\n",
       "      <td>0</td>\n",
       "    </tr>\n",
       "    <tr>\n",
       "      <th>1313</th>\n",
       "      <td>1314</td>\n",
       "      <td>Male</td>\n",
       "      <td>57</td>\n",
       "      <td>US</td>\n",
       "      <td>Free</td>\n",
       "      <td>89</td>\n",
       "      <td>4</td>\n",
       "      <td>0.24</td>\n",
       "      <td>Web</td>\n",
       "      <td>27</td>\n",
       "      <td>0</td>\n",
       "      <td>1</td>\n",
       "    </tr>\n",
       "    <tr>\n",
       "      <th>5069</th>\n",
       "      <td>5070</td>\n",
       "      <td>Other</td>\n",
       "      <td>42</td>\n",
       "      <td>UK</td>\n",
       "      <td>Premium</td>\n",
       "      <td>77</td>\n",
       "      <td>15</td>\n",
       "      <td>0.18</td>\n",
       "      <td>Mobile</td>\n",
       "      <td>0</td>\n",
       "      <td>1</td>\n",
       "      <td>0</td>\n",
       "    </tr>\n",
       "  </tbody>\n",
       "</table>\n",
       "<p>100 rows × 12 columns</p>\n",
       "</div>"
      ],
      "text/plain": [
       "      user_id  gender  age country subscription_type  listening_time  \\\n",
       "6484     6485   Other   21      PK           Premium              82   \n",
       "2494     2495    Male   38      UK            Family              82   \n",
       "4669     4670  Female   32      AU           Student             243   \n",
       "6872     6873    Male   39      AU           Student             240   \n",
       "5271     5272  Female   49      UK           Premium              56   \n",
       "...       ...     ...  ...     ...               ...             ...   \n",
       "3069     3070   Other   24      IN              Free              59   \n",
       "1684     1685   Other   35      UK              Free             182   \n",
       "1331     1332  Female   59      FR            Family             242   \n",
       "1313     1314    Male   57      US              Free              89   \n",
       "5069     5070   Other   42      UK           Premium              77   \n",
       "\n",
       "      songs_played_per_day  skip_rate device_type  ads_listened_per_week  \\\n",
       "6484                    73       0.26      Mobile                      0   \n",
       "2494                    24       0.52         Web                      0   \n",
       "4669                    79       0.36     Desktop                      0   \n",
       "6872                    73       0.39         Web                      0   \n",
       "5271                    51       0.31      Mobile                      0   \n",
       "...                    ...        ...         ...                    ...   \n",
       "3069                    96       0.39      Mobile                     30   \n",
       "1684                    38       0.53         Web                     40   \n",
       "1331                    67       0.41     Desktop                      0   \n",
       "1313                     4       0.24         Web                     27   \n",
       "5069                    15       0.18      Mobile                      0   \n",
       "\n",
       "      offline_listening  is_churned  \n",
       "6484                  1           1  \n",
       "2494                  1           1  \n",
       "4669                  1           1  \n",
       "6872                  1           0  \n",
       "5271                  1           0  \n",
       "...                 ...         ...  \n",
       "3069                  0           0  \n",
       "1684                  0           0  \n",
       "1331                  1           0  \n",
       "1313                  0           1  \n",
       "5069                  1           0  \n",
       "\n",
       "[100 rows x 12 columns]"
      ]
     },
     "execution_count": 62,
     "metadata": {},
     "output_type": "execute_result"
    }
   ],
   "source": [
    "spoti.sample(100)\n",
    "# to remove missing  --> data. dropna()"
   ]
  },
  {
   "cell_type": "markdown",
   "id": "0c03191a",
   "metadata": {},
   "source": [
    "# Filling the value "
   ]
  },
  {
   "cell_type": "markdown",
   "id": "561063c2",
   "metadata": {},
   "source": [
    "# Fill all missing values with 0\n",
    "spoti = spoti.fillna(0)\n",
    "\n",
    "# Fill with a specific string\n",
    "spoti = spoti.fillna('Unknown')\n",
    "\n",
    "# Fill with a custom value\n",
    "spoti = spoti.fillna(-999)"
   ]
  },
  {
   "cell_type": "code",
   "execution_count": 63,
   "id": "44acf44c",
   "metadata": {},
   "outputs": [
    {
     "name": "stderr",
     "output_type": "stream",
     "text": [
      "C:\\Users\\manis\\AppData\\Local\\Temp\\ipykernel_19180\\1684164723.py:1: FutureWarning: \n",
      "\n",
      "Passing `palette` without assigning `hue` is deprecated and will be removed in v0.14.0. Assign the `x` variable to `hue` and set `legend=False` for the same effect.\n",
      "\n",
      "  sns.countplot(x=spoti['gender'],palette='Set2')\n"
     ]
    },
    {
     "data": {
      "text/plain": [
       "<Axes: xlabel='gender', ylabel='count'>"
      ]
     },
     "execution_count": 63,
     "metadata": {},
     "output_type": "execute_result"
    },
    {
     "data": {
      "image/png": "[encoded data removed]",
      "text/plain": [
       "<Figure size 640x480 with 1 Axes>"
      ]
     },
     "metadata": {},
     "output_type": "display_data"
    }
   ],
   "source": [
    "sns.countplot(x=spoti['gender'],palette='Set2')"
   ]
  },
  {
   "cell_type": "markdown",
   "id": "d7d3d7fb",
   "metadata": {},
   "source": [
    "# set ylim &  xlim \n",
    "set the range your axis "
   ]
  },
  {
   "cell_type": "code",
   "execution_count": 64,
   "id": "7225f877",
   "metadata": {},
   "outputs": [
    {
     "name": "stderr",
     "output_type": "stream",
     "text": [
      "C:\\Users\\manis\\AppData\\Local\\Temp\\ipykernel_19180\\485129175.py:2: FutureWarning: \n",
      "\n",
      "Passing `palette` without assigning `hue` is deprecated and will be removed in v0.14.0. Assign the `x` variable to `hue` and set `legend=False` for the same effect.\n",
      "\n",
      "  ax = sns.countplot(data=spoti, x='gender', palette='Set2')\n"
     ]
    },
    {
     "data": {
      "image/png": "[encoded data removed]",
      "text/plain": [
       "<Figure size 800x600 with 1 Axes>"
      ]
     },
     "metadata": {},
     "output_type": "display_data"
    }
   ],
   "source": [
    "plt.figure(figsize=(8, 6))\n",
    "ax = sns.countplot(data=spoti, x='gender', palette='Set2')\n",
    "ax.set_ylim(2600, None)  # Add parentheses and upper limit\n",
    "plt.show()"
   ]
  },
  {
   "cell_type": "code",
   "execution_count": 65,
   "id": "d12a3fba",
   "metadata": {},
   "outputs": [
    {
     "name": "stderr",
     "output_type": "stream",
     "text": [
      "C:\\Users\\manis\\AppData\\Local\\Temp\\ipykernel_19180\\597004517.py:3: FutureWarning: \n",
      "\n",
      "Passing `palette` without assigning `hue` is deprecated and will be removed in v0.14.0. Assign the `x` variable to `hue` and set `legend=False` for the same effect.\n",
      "\n",
      "  ax = sns.countplot(data=spoti, x='gender', palette='Set2')\n"
     ]
    },
    {
     "data": {
      "image/png": "[encoded data removed]",
      "text/plain": [
       "<Figure size 800x600 with 1 Axes>"
      ]
     },
     "metadata": {},
     "output_type": "display_data"
    },
    {
     "name": "stdout",
     "output_type": "stream",
     "text": [
      "Exact gender counts:\n",
      "gender\n",
      "Male      2691\n",
      "Female    2659\n",
      "Other     2650\n",
      "Name: count, dtype: int64\n"
     ]
    }
   ],
   "source": [
    "# Create the countplot\n",
    "plt.figure(figsize=(8, 6))\n",
    "ax = sns.countplot(data=spoti, x='gender', palette='Set2')\n",
    "\n",
    "# Set y-axis limits to focus on 2600-2700 range\n",
    "ax.set_ylim(2600, 2700)  # Narrow range to see precise differences\n",
    "\n",
    "# Add value labels on top of each bar to see exact counts\n",
    "for container in ax.containers:\n",
    "    ax.bar_label(container, fmt='%d', label_type='edge', padding=3)\n",
    "\n",
    "plt.title('Gender Distribution (Zoomed: 2600-2700 range)')\n",
    "plt.tight_layout()\n",
    "plt.grid()\n",
    "plt.show()\n",
    "\n",
    "# Also print the exact counts for reference\n",
    "print(\"Exact gender counts:\")\n",
    "print(spoti['gender'].value_counts())"
   ]
  },
  {
   "cell_type": "code",
   "execution_count": 66,
   "id": "d527f407",
   "metadata": {},
   "outputs": [
    {
     "data": {
      "application/vnd.microsoft.datawrangler.viewer.v0+json": {
       "columns": [
        {
         "name": "index",
         "rawType": "int64",
         "type": "integer"
        },
        {
         "name": "user_id",
         "rawType": "int64",
         "type": "integer"
        },
        {
         "name": "gender",
         "rawType": "object",
         "type": "string"
        },
        {
         "name": "age",
         "rawType": "int64",
         "type": "integer"
        },
        {
         "name": "country",
         "rawType": "object",
         "type": "string"
        },
        {
         "name": "subscription_type",
         "rawType": "object",
         "type": "string"
        },
        {
         "name": "listening_time",
         "rawType": "int64",
         "type": "integer"
        },
        {
         "name": "songs_played_per_day",
         "rawType": "int64",
         "type": "integer"
        },
        {
         "name": "skip_rate",
         "rawType": "float64",
         "type": "float"
        },
        {
         "name": "device_type",
         "rawType": "object",
         "type": "string"
        },
        {
         "name": "ads_listened_per_week",
         "rawType": "int64",
         "type": "integer"
        },
        {
         "name": "offline_listening",
         "rawType": "int64",
         "type": "integer"
        },
        {
         "name": "is_churned",
         "rawType": "int64",
         "type": "integer"
        }
       ],
       "ref": "1a85fae4-002b-48ff-a6a0-a403592c9aff",
       "rows": [
        [
         "4073",
         "4074",
         "Female",
         "51",
         "IN",
         "Premium",
         "283",
         "16",
         "0.27",
         "Mobile",
         "0",
         "1",
         "0"
        ],
        [
         "7416",
         "7417",
         "Female",
         "58",
         "PK",
         "Free",
         "97",
         "30",
         "0.02",
         "Desktop",
         "36",
         "0",
         "1"
        ],
        [
         "5428",
         "5429",
         "Male",
         "33",
         "CA",
         "Premium",
         "242",
         "99",
         "0.03",
         "Mobile",
         "0",
         "1",
         "1"
        ],
        [
         "260",
         "261",
         "Other",
         "37",
         "AU",
         "Free",
         "140",
         "14",
         "0.02",
         "Mobile",
         "31",
         "0",
         "0"
        ],
        [
         "1843",
         "1844",
         "Male",
         "42",
         "UK",
         "Free",
         "297",
         "12",
         "0.54",
         "Desktop",
         "15",
         "0",
         "0"
        ],
        [
         "1054",
         "1055",
         "Other",
         "49",
         "AU",
         "Student",
         "153",
         "88",
         "0.49",
         "Web",
         "0",
         "1",
         "1"
        ],
        [
         "1273",
         "1274",
         "Male",
         "53",
         "CA",
         "Premium",
         "79",
         "74",
         "0.05",
         "Desktop",
         "0",
         "1",
         "0"
        ],
        [
         "5781",
         "5782",
         "Other",
         "24",
         "AU",
         "Student",
         "10",
         "85",
         "0.33",
         "Web",
         "0",
         "1",
         "0"
        ],
        [
         "226",
         "227",
         "Female",
         "41",
         "CA",
         "Student",
         "51",
         "26",
         "0.19",
         "Web",
         "0",
         "1",
         "0"
        ],
        [
         "1278",
         "1279",
         "Other",
         "34",
         "AU",
         "Premium",
         "296",
         "98",
         "0.03",
         "Mobile",
         "0",
         "1",
         "0"
        ]
       ],
       "shape": {
        "columns": 12,
        "rows": 10
       }
      },
      "text/html": [
       "<div>\n",
       "<style scoped>\n",
       "    .dataframe tbody tr th:only-of-type {\n",
       "        vertical-align: middle;\n",
       "    }\n",
       "\n",
       "    .dataframe tbody tr th {\n",
       "        vertical-align: top;\n",
       "    }\n",
       "\n",
       "    .dataframe thead th {\n",
       "        text-align: right;\n",
       "    }\n",
       "</style>\n",
       "<table border=\"1\" class=\"dataframe\">\n",
       "  <thead>\n",
       "    <tr style=\"text-align: right;\">\n",
       "      <th></th>\n",
       "      <th>user_id</th>\n",
       "      <th>gender</th>\n",
       "      <th>age</th>\n",
       "      <th>country</th>\n",
       "      <th>subscription_type</th>\n",
       "      <th>listening_time</th>\n",
       "      <th>songs_played_per_day</th>\n",
       "      <th>skip_rate</th>\n",
       "      <th>device_type</th>\n",
       "      <th>ads_listened_per_week</th>\n",
       "      <th>offline_listening</th>\n",
       "      <th>is_churned</th>\n",
       "    </tr>\n",
       "  </thead>\n",
       "  <tbody>\n",
       "    <tr>\n",
       "      <th>4073</th>\n",
       "      <td>4074</td>\n",
       "      <td>Female</td>\n",
       "      <td>51</td>\n",
       "      <td>IN</td>\n",
       "      <td>Premium</td>\n",
       "      <td>283</td>\n",
       "      <td>16</td>\n",
       "      <td>0.27</td>\n",
       "      <td>Mobile</td>\n",
       "      <td>0</td>\n",
       "      <td>1</td>\n",
       "      <td>0</td>\n",
       "    </tr>\n",
       "    <tr>\n",
       "      <th>7416</th>\n",
       "      <td>7417</td>\n",
       "      <td>Female</td>\n",
       "      <td>58</td>\n",
       "      <td>PK</td>\n",
       "      <td>Free</td>\n",
       "      <td>97</td>\n",
       "      <td>30</td>\n",
       "      <td>0.02</td>\n",
       "      <td>Desktop</td>\n",
       "      <td>36</td>\n",
       "      <td>0</td>\n",
       "      <td>1</td>\n",
       "    </tr>\n",
       "    <tr>\n",
       "      <th>5428</th>\n",
       "      <td>5429</td>\n",
       "      <td>Male</td>\n",
       "      <td>33</td>\n",
       "      <td>CA</td>\n",
       "      <td>Premium</td>\n",
       "      <td>242</td>\n",
       "      <td>99</td>\n",
       "      <td>0.03</td>\n",
       "      <td>Mobile</td>\n",
       "      <td>0</td>\n",
       "      <td>1</td>\n",
       "      <td>1</td>\n",
       "    </tr>\n",
       "    <tr>\n",
       "      <th>260</th>\n",
       "      <td>261</td>\n",
       "      <td>Other</td>\n",
       "      <td>37</td>\n",
       "      <td>AU</td>\n",
       "      <td>Free</td>\n",
       "      <td>140</td>\n",
       "      <td>14</td>\n",
       "      <td>0.02</td>\n",
       "      <td>Mobile</td>\n",
       "      <td>31</td>\n",
       "      <td>0</td>\n",
       "      <td>0</td>\n",
       "    </tr>\n",
       "    <tr>\n",
       "      <th>1843</th>\n",
       "      <td>1844</td>\n",
       "      <td>Male</td>\n",
       "      <td>42</td>\n",
       "      <td>UK</td>\n",
       "      <td>Free</td>\n",
       "      <td>297</td>\n",
       "      <td>12</td>\n",
       "      <td>0.54</td>\n",
       "      <td>Desktop</td>\n",
       "      <td>15</td>\n",
       "      <td>0</td>\n",
       "      <td>0</td>\n",
       "    </tr>\n",
       "    <tr>\n",
       "      <th>1054</th>\n",
       "      <td>1055</td>\n",
       "      <td>Other</td>\n",
       "      <td>49</td>\n",
       "      <td>AU</td>\n",
       "      <td>Student</td>\n",
       "      <td>153</td>\n",
       "      <td>88</td>\n",
       "      <td>0.49</td>\n",
       "      <td>Web</td>\n",
       "      <td>0</td>\n",
       "      <td>1</td>\n",
       "      <td>1</td>\n",
       "    </tr>\n",
       "    <tr>\n",
       "      <th>1273</th>\n",
       "      <td>1274</td>\n",
       "      <td>Male</td>\n",
       "      <td>53</td>\n",
       "      <td>CA</td>\n",
       "      <td>Premium</td>\n",
       "      <td>79</td>\n",
       "      <td>74</td>\n",
       "      <td>0.05</td>\n",
       "      <td>Desktop</td>\n",
       "      <td>0</td>\n",
       "      <td>1</td>\n",
       "      <td>0</td>\n",
       "    </tr>\n",
       "    <tr>\n",
       "      <th>5781</th>\n",
       "      <td>5782</td>\n",
       "      <td>Other</td>\n",
       "      <td>24</td>\n",
       "      <td>AU</td>\n",
       "      <td>Student</td>\n",
       "      <td>10</td>\n",
       "      <td>85</td>\n",
       "      <td>0.33</td>\n",
       "      <td>Web</td>\n",
       "      <td>0</td>\n",
       "      <td>1</td>\n",
       "      <td>0</td>\n",
       "    </tr>\n",
       "    <tr>\n",
       "      <th>226</th>\n",
       "      <td>227</td>\n",
       "      <td>Female</td>\n",
       "      <td>41</td>\n",
       "      <td>CA</td>\n",
       "      <td>Student</td>\n",
       "      <td>51</td>\n",
       "      <td>26</td>\n",
       "      <td>0.19</td>\n",
       "      <td>Web</td>\n",
       "      <td>0</td>\n",
       "      <td>1</td>\n",
       "      <td>0</td>\n",
       "    </tr>\n",
       "    <tr>\n",
       "      <th>1278</th>\n",
       "      <td>1279</td>\n",
       "      <td>Other</td>\n",
       "      <td>34</td>\n",
       "      <td>AU</td>\n",
       "      <td>Premium</td>\n",
       "      <td>296</td>\n",
       "      <td>98</td>\n",
       "      <td>0.03</td>\n",
       "      <td>Mobile</td>\n",
       "      <td>0</td>\n",
       "      <td>1</td>\n",
       "      <td>0</td>\n",
       "    </tr>\n",
       "  </tbody>\n",
       "</table>\n",
       "</div>"
      ],
      "text/plain": [
       "      user_id  gender  age country subscription_type  listening_time  \\\n",
       "4073     4074  Female   51      IN           Premium             283   \n",
       "7416     7417  Female   58      PK              Free              97   \n",
       "5428     5429    Male   33      CA           Premium             242   \n",
       "260       261   Other   37      AU              Free             140   \n",
       "1843     1844    Male   42      UK              Free             297   \n",
       "1054     1055   Other   49      AU           Student             153   \n",
       "1273     1274    Male   53      CA           Premium              79   \n",
       "5781     5782   Other   24      AU           Student              10   \n",
       "226       227  Female   41      CA           Student              51   \n",
       "1278     1279   Other   34      AU           Premium             296   \n",
       "\n",
       "      songs_played_per_day  skip_rate device_type  ads_listened_per_week  \\\n",
       "4073                    16       0.27      Mobile                      0   \n",
       "7416                    30       0.02     Desktop                     36   \n",
       "5428                    99       0.03      Mobile                      0   \n",
       "260                     14       0.02      Mobile                     31   \n",
       "1843                    12       0.54     Desktop                     15   \n",
       "1054                    88       0.49         Web                      0   \n",
       "1273                    74       0.05     Desktop                      0   \n",
       "5781                    85       0.33         Web                      0   \n",
       "226                     26       0.19         Web                      0   \n",
       "1278                    98       0.03      Mobile                      0   \n",
       "\n",
       "      offline_listening  is_churned  \n",
       "4073                  1           0  \n",
       "7416                  0           1  \n",
       "5428                  1           1  \n",
       "260                   0           0  \n",
       "1843                  0           0  \n",
       "1054                  1           1  \n",
       "1273                  1           0  \n",
       "5781                  1           0  \n",
       "226                   1           0  \n",
       "1278                  1           0  "
      ]
     },
     "execution_count": 66,
     "metadata": {},
     "output_type": "execute_result"
    }
   ],
   "source": [
    "spoti.sample(10)"
   ]
  },
  {
   "cell_type": "markdown",
   "id": "36b167b4",
   "metadata": {},
   "source": [
    "# AGE \n",
    "when we ask about the age \n",
    "--> mean , skew(), max age , minium age \n",
    "---> you can use plt.hist(df['Age']) with bin how many person are in same age \n",
    "hist with kde"
   ]
  },
  {
   "cell_type": "markdown",
   "id": "038e8e43",
   "metadata": {},
   "source": [
    "# mean of age \n",
    "\n",
    "here i used format specifer \n",
    "name = \"Alice\"\n",
    "age = 25\n",
    "print(f\"My name is {name} and I'm {age} years old\")\n",
    "# Output: My name is Alice and I'm 25 years old"
   ]
  },
  {
   "cell_type": "code",
   "execution_count": 67,
   "id": "f66b62f6",
   "metadata": {},
   "outputs": [
    {
     "name": "stdout",
     "output_type": "stream",
     "text": [
      "Mean age : 37.66 years\n"
     ]
    }
   ],
   "source": [
    "age_mean = spoti['age'].mean() \n",
    "print(f\"Mean age : {age_mean:.2f} years\")"
   ]
  },
  {
   "cell_type": "markdown",
   "id": "ecb84711",
   "metadata": {},
   "source": [
    "# medain \n",
    "a. middle value of a sorted list of numbers\n",
    "Median = {(n+1)/2}th term"
   ]
  },
  {
   "cell_type": "code",
   "execution_count": 68,
   "id": "520cf1a8",
   "metadata": {},
   "outputs": [
    {
     "name": "stdout",
     "output_type": "stream",
     "text": [
      "Medain age : 38.00 years\n"
     ]
    }
   ],
   "source": [
    "age_median = spoti['age'].median()\n",
    "print(f'Medain age : {age_median:.2f} years')"
   ]
  },
  {
   "cell_type": "markdown",
   "id": "a223c7eb",
   "metadata": {},
   "source": [
    "# Mode"
   ]
  },
  {
   "cell_type": "code",
   "execution_count": 69,
   "id": "6f9538a7",
   "metadata": {},
   "outputs": [
    {
     "name": "stdout",
     "output_type": "stream",
     "text": [
      "0    51\n",
      "Name: age, dtype: int64\n"
     ]
    }
   ],
   "source": [
    "age_mode = spoti['age'].mode()\n",
    "print(age_mode)"
   ]
  },
  {
   "cell_type": "markdown",
   "id": "e8638029",
   "metadata": {},
   "source": [
    "* **Mean:** Average (sum of all values ÷ count)\n",
    "\n",
    "* **Median:** Middle value when sorted (50% above, 50% below)  \n",
    "\n",
    "* **Mode:** Most frequent value (appears most often)\n",
    "\n",
    "Example: [1, 2, 2, 5, 9]\n",
    "\n",
    "Mean: (1+2+2+5+9)/5 = 3.8\n",
    "\n",
    "Median: 2 (middle value)\n",
    "\n",
    "Mode: 2 (appears twice)"
   ]
  },
  {
   "cell_type": "markdown",
   "id": "bd59c7a9",
   "metadata": {},
   "source": [
    "# For Univariate Age Analysis:\n",
    "\n",
    "## Numerical Operations:\n",
    "\n",
    "|function | work    |\n",
    "|:----                  |   -----: |\n",
    "|spoti['age'].describe()| - Summary stats|\n",
    "|spoti['age'].mean()| - Average age|\n",
    "|spoti['age'].median()| - Middle value|\n",
    "|spoti['age'].mode() |- Most frequent age|\n",
    "|spoti['age'].std() |- Spread/variation|\n",
    "|spoti['age'].skew() |- Symmetry check|\n",
    "\n",
    "Visualizations:\n",
    "\n",
    "1. Histogram: sns.histplot(data=spoti, x='age')\n",
    "2. Box plot: sns.boxplot(data=spoti, y='age')\n",
    "3. KDE plot: sns.kdeplot(data=spoti, x='age')\n",
    "\n",
    "Basic checks:\n",
    "\n",
    "- [x] spoti['age'].isnull().sum() - Missing values\n",
    "\n",
    "- [x] spoti['age'].value_counts() - Frequency distribution"
   ]
  },
  {
   "cell_type": "markdown",
   "id": "deda5f88",
   "metadata": {},
   "source": [
    "# Frequency distribution\n",
    "    \n",
    "1.  __Show how much repeation of age here__ \n",
    "\n",
    "\n",
    "* here is my analysis   \n",
    " 51 -> 207 user maximum   \n",
    " 30 --> 190  least age user   \n",
    " 16--> 202 user least age  "
   ]
  },
  {
   "cell_type": "code",
   "execution_count": 70,
   "id": "0c8b522c",
   "metadata": {},
   "outputs": [
    {
     "data": {
      "application/vnd.microsoft.datawrangler.viewer.v0+json": {
       "columns": [
        {
         "name": "age",
         "rawType": "int64",
         "type": "integer"
        },
        {
         "name": "count",
         "rawType": "int64",
         "type": "integer"
        }
       ],
       "ref": "109b1d9d-23ed-4611-8686-e512e6126ed4",
       "rows": [
        [
         "16",
         "172"
        ],
        [
         "17",
         "177"
        ],
        [
         "18",
         "185"
        ],
        [
         "19",
         "181"
        ],
        [
         "20",
         "202"
        ],
        [
         "21",
         "199"
        ],
        [
         "22",
         "200"
        ],
        [
         "23",
         "175"
        ],
        [
         "24",
         "176"
        ],
        [
         "25",
         "168"
        ],
        [
         "26",
         "173"
        ],
        [
         "27",
         "146"
        ],
        [
         "28",
         "173"
        ],
        [
         "29",
         "151"
        ],
        [
         "30",
         "192"
        ],
        [
         "31",
         "173"
        ],
        [
         "32",
         "184"
        ],
        [
         "33",
         "186"
        ],
        [
         "34",
         "182"
        ],
        [
         "35",
         "179"
        ],
        [
         "36",
         "177"
        ],
        [
         "37",
         "202"
        ],
        [
         "38",
         "170"
        ],
        [
         "39",
         "173"
        ],
        [
         "40",
         "170"
        ],
        [
         "41",
         "196"
        ],
        [
         "42",
         "199"
        ],
        [
         "43",
         "173"
        ],
        [
         "44",
         "176"
        ],
        [
         "45",
         "168"
        ],
        [
         "46",
         "192"
        ],
        [
         "47",
         "190"
        ],
        [
         "48",
         "188"
        ],
        [
         "49",
         "200"
        ],
        [
         "50",
         "184"
        ],
        [
         "51",
         "207"
        ],
        [
         "52",
         "190"
        ],
        [
         "53",
         "185"
        ],
        [
         "54",
         "173"
        ],
        [
         "55",
         "174"
        ],
        [
         "56",
         "170"
        ],
        [
         "57",
         "202"
        ],
        [
         "58",
         "183"
        ],
        [
         "59",
         "184"
        ]
       ],
       "shape": {
        "columns": 1,
        "rows": 44
       }
      },
      "text/plain": [
       "age\n",
       "16    172\n",
       "17    177\n",
       "18    185\n",
       "19    181\n",
       "20    202\n",
       "21    199\n",
       "22    200\n",
       "23    175\n",
       "24    176\n",
       "25    168\n",
       "26    173\n",
       "27    146\n",
       "28    173\n",
       "29    151\n",
       "30    192\n",
       "31    173\n",
       "32    184\n",
       "33    186\n",
       "34    182\n",
       "35    179\n",
       "36    177\n",
       "37    202\n",
       "38    170\n",
       "39    173\n",
       "40    170\n",
       "41    196\n",
       "42    199\n",
       "43    173\n",
       "44    176\n",
       "45    168\n",
       "46    192\n",
       "47    190\n",
       "48    188\n",
       "49    200\n",
       "50    184\n",
       "51    207\n",
       "52    190\n",
       "53    185\n",
       "54    173\n",
       "55    174\n",
       "56    170\n",
       "57    202\n",
       "58    183\n",
       "59    184\n",
       "Name: count, dtype: int64"
      ]
     },
     "execution_count": 70,
     "metadata": {},
     "output_type": "execute_result"
    }
   ],
   "source": [
    "spoti['age'].value_counts().sort_index()"
   ]
  },
  {
   "cell_type": "markdown",
   "id": "224aa2d2",
   "metadata": {},
   "source": [
    "# .describe()\n",
    "a. it baiscally give you whole summary of data "
   ]
  },
  {
   "cell_type": "code",
   "execution_count": 71,
   "id": "39670662",
   "metadata": {},
   "outputs": [
    {
     "data": {
      "application/vnd.microsoft.datawrangler.viewer.v0+json": {
       "columns": [
        {
         "name": "index",
         "rawType": "object",
         "type": "string"
        },
        {
         "name": "age",
         "rawType": "float64",
         "type": "float"
        }
       ],
       "ref": "a04a78c9-f862-46b3-a926-522a7e3230dd",
       "rows": [
        [
         "count",
         "8000.0"
        ],
        [
         "mean",
         "37.662125"
        ],
        [
         "std",
         "12.740359299437356"
        ],
        [
         "min",
         "16.0"
        ],
        [
         "25%",
         "26.0"
        ],
        [
         "50%",
         "38.0"
        ],
        [
         "75%",
         "49.0"
        ],
        [
         "max",
         "59.0"
        ]
       ],
       "shape": {
        "columns": 1,
        "rows": 8
       }
      },
      "text/plain": [
       "count    8000.000000\n",
       "mean       37.662125\n",
       "std        12.740359\n",
       "min        16.000000\n",
       "25%        26.000000\n",
       "50%        38.000000\n",
       "75%        49.000000\n",
       "max        59.000000\n",
       "Name: age, dtype: float64"
      ]
     },
     "execution_count": 71,
     "metadata": {},
     "output_type": "execute_result"
    }
   ],
   "source": [
    "spoti['age'].describe()"
   ]
  },
  {
   "cell_type": "markdown",
   "id": "535e4462",
   "metadata": {},
   "source": [
    "# Spread/variation\n",
    "--> ages differ from each other (age is our standard here )\n",
    "Example: Two groups, same mean (30 years)  \n",
    "\n",
    "Group A: [29, 30, 31] → Low spread (ages close together)  \n",
    "\n",
    "Group B: [10, 30, 50] → High spread (ages far apart)    \n",
    "\n",
    "spoti['age'].std() = 12.74 means:\n",
    "\n",
    "Average distance of ages from the mean\n",
    "\n",
    "Example: If mean age = 35 years, std = 12.74 means:\n",
    "\n",
    "About 68% of people are between: 35 ± 12.74 = 22.26 to 47.74 years\n",
    "\n",
    "About 95% of people are between: 35 ± (2×12.74) = 9.52 to 60.48 \n",
    "\n",
    "Age range:   10-----22.26▢████████35████████▢47.74-----70\n",
    "                          ±12.74    ±12.74"
   ]
  },
  {
   "cell_type": "code",
   "execution_count": 72,
   "id": "f64ea12e",
   "metadata": {},
   "outputs": [
    {
     "name": "stdout",
     "output_type": "stream",
     "text": [
      "12.740359299437356\n"
     ]
    }
   ],
   "source": [
    "spread = spoti['age'].std()\n",
    "print(spread)"
   ]
  },
  {
   "cell_type": "markdown",
   "id": "8ac1d656",
   "metadata": {},
   "source": [
    "# skew()\n",
    "\n",
    "Breakdown:\n",
    "\n",
    "Skew = 0: Perfect bell curve (mean = median = mode)\n",
    "\n",
    "Positive skew: Right tail longer → younger population\n",
    "\n",
    "Negative skew: Left tail longer → older population"
   ]
  },
  {
   "cell_type": "code",
   "execution_count": 73,
   "id": "a1d9f252",
   "metadata": {},
   "outputs": [
    {
     "name": "stdout",
     "output_type": "stream",
     "text": [
      "-0.027434739585673627\n"
     ]
    }
   ],
   "source": [
    "spoti_skew= spoti['age'].skew()\n",
    "print(spoti_skew)"
   ]
  },
  {
   "cell_type": "code",
   "execution_count": 74,
   "id": "19f9832c",
   "metadata": {},
   "outputs": [
    {
     "data": {
      "text/plain": [
       "<Axes: ylabel='count'>"
      ]
     },
     "execution_count": 74,
     "metadata": {},
     "output_type": "execute_result"
    },
    {
     "data": {
      "image/png": "[encoded data removed]",
      "text/plain": [
       "<Figure size 640x480 with 1 Axes>"
      ]
     },
     "metadata": {},
     "output_type": "display_data"
    }
   ],
   "source": [
    "spoti['age'].value_counts().plot(kind='pie',autopct='%2.2f')"
   ]
  },
  {
   "cell_type": "code",
   "execution_count": 75,
   "id": "c313b59c",
   "metadata": {},
   "outputs": [
    {
     "data": {
      "text/plain": [
       "(array([917., 750., 660., 886., 740., 709., 908., 762., 755., 913.]),\n",
       " array([16. , 20.3, 24.6, 28.9, 33.2, 37.5, 41.8, 46.1, 50.4, 54.7, 59. ]),\n",
       " <BarContainer object of 10 artists>)"
      ]
     },
     "execution_count": 75,
     "metadata": {},
     "output_type": "execute_result"
    },
    {
     "data": {
      "image/png": "[encoded data removed]",
      "text/plain": [
       "<Figure size 640x480 with 1 Axes>"
      ]
     },
     "metadata": {},
     "output_type": "display_data"
    }
   ],
   "source": [
    "plt.hist(spoti['age'])"
   ]
  },
  {
   "cell_type": "markdown",
   "id": "c03c8289",
   "metadata": {},
   "source": [
    "* In the above image bin is bad how we include the bin     \n",
    "    *  min age is 16   \n",
    "    *  max age is 54   \n",
    "        *  (max - min) / bin (your size)  \n",
    "        *  59-16 = 43   \n",
    "        *  43/15 =   \n",
    "        *  1 bin size = 8.6  "
   ]
  },
  {
   "cell_type": "code",
   "execution_count": 76,
   "id": "07bf406b",
   "metadata": {},
   "outputs": [
    {
     "data": {
      "text/plain": [
       "(array([1667., 1546., 1449., 1670., 1668.]),\n",
       " array([16. , 24.6, 33.2, 41.8, 50.4, 59. ]),\n",
       " <BarContainer object of 5 artists>)"
      ]
     },
     "execution_count": 76,
     "metadata": {},
     "output_type": "execute_result"
    },
    {
     "data": {
      "image/png": "[encoded data removed]",
      "text/plain": [
       "<Figure size 640x480 with 1 Axes>"
      ]
     },
     "metadata": {},
     "output_type": "display_data"
    }
   ],
   "source": [
    "plt.hist(spoti['age'], bins = 5, edgecolor='red', color = 'skyblue' )\n"
   ]
  },
  {
   "cell_type": "code",
   "execution_count": 77,
   "id": "b6bec8cc",
   "metadata": {},
   "outputs": [
    {
     "data": {
      "text/plain": [
       "59"
      ]
     },
     "execution_count": 77,
     "metadata": {},
     "output_type": "execute_result"
    }
   ],
   "source": [
    "spoti['age'].max()"
   ]
  },
  {
   "cell_type": "markdown",
   "id": "65ca2684",
   "metadata": {},
   "source": [
    "# More detailed x axis "
   ]
  },
  {
   "cell_type": "code",
   "execution_count": 78,
   "id": "b6576e27",
   "metadata": {},
   "outputs": [
    {
     "data": {
      "text/plain": [
       "([<matplotlib.axis.XTick at 0x2abf5c539d0>,\n",
       "  <matplotlib.axis.XTick at 0x2abf5c7a350>,\n",
       "  <matplotlib.axis.XTick at 0x2abf5c7aad0>,\n",
       "  <matplotlib.axis.XTick at 0x2abf5c7b250>,\n",
       "  <matplotlib.axis.XTick at 0x2abf5c7b9d0>],\n",
       " [Text(20.0, 0, '16-23.6'),\n",
       "  Text(27.4, 0, '23.6-31.2'),\n",
       "  Text(35.0, 0, '31.2-38.8'),\n",
       "  Text(42.6, 0, '38.8-46.4'),\n",
       "  Text(50.2, 0, '46.4-54.0')])"
      ]
     },
     "execution_count": 78,
     "metadata": {},
     "output_type": "execute_result"
    },
    {
     "data": {
      "image/png": "[encoded data removed]",
      "text/plain": [
       "<Figure size 640x480 with 1 Axes>"
      ]
     },
     "metadata": {},
     "output_type": "display_data"
    }
   ],
   "source": [
    "plt.hist(spoti['age'], bins=5, edgecolor='red', color='skyblue')\n",
    "plt.xticks([20, 27.4, 35, 42.6, 50.2], ['16-23.6', '23.6-31.2', '31.2-38.8', '38.8-46.4', '46.4-54.0'])"
   ]
  },
  {
   "cell_type": "markdown",
   "id": "4dab21e0",
   "metadata": {},
   "source": [
    "# Advance hist plot \n",
    "no use can't use bar plot and container here\n",
    "\n",
    "## another method \n",
    "    * count = hight of each bar \n",
    "    * patch = each individual histogram\n",
    "    * patch.get_x + patch.get_width()"
   ]
  },
  {
   "cell_type": "code",
   "execution_count": 79,
   "id": "6c43d921",
   "metadata": {},
   "outputs": [
    {
     "data": {
      "text/plain": [
       "([<matplotlib.axis.XTick at 0x2abf6b11450>,\n",
       "  <matplotlib.axis.XTick at 0x2abf6b5c410>,\n",
       "  <matplotlib.axis.XTick at 0x2abf6b5cb90>,\n",
       "  <matplotlib.axis.XTick at 0x2abf6b5d310>,\n",
       "  <matplotlib.axis.XTick at 0x2abf6b5da90>],\n",
       " [Text(20.0, 0, '16-23.6'),\n",
       "  Text(27.4, 0, '23.6-31.2'),\n",
       "  Text(35.0, 0, '31.2-38.8'),\n",
       "  Text(42.6, 0, '38.8-46.4'),\n",
       "  Text(50.2, 0, '46.4-54.0')])"
      ]
     },
     "execution_count": 79,
     "metadata": {},
     "output_type": "execute_result"
    },
    {
     "data": {
      "image/png": "[encoded data removed]",
      "text/plain": [
       "<Figure size 640x480 with 1 Axes>"
      ]
     },
     "metadata": {},
     "output_type": "display_data"
    }
   ],
   "source": [
    "# Create histogram and get bin counts\n",
    "counts, bins, patches = plt.hist(spoti['age'], bins=5, edgecolor='red', color='skyblue')\n",
    "\n",
    "# Add value labels on each bar\n",
    "for i, (count, patch) in enumerate(zip(counts, patches)):\n",
    "    plt.text(patch.get_x() + patch.get_width()/2, count + 5,f'{int(count)}', ha='center', va='bottom')\n",
    "\n",
    "# Set x-axis labels\n",
    "plt.xticks([20, 27.4, 35, 42.6, 50.2], ['16-23.6', '23.6-31.2', '31.2-38.8', '38.8-46.4', '46.4-54.0'])"
   ]
  },
  {
   "cell_type": "markdown",
   "id": "e5b305c7",
   "metadata": {},
   "source": [
    "# Kde = True "
   ]
  },
  {
   "cell_type": "code",
   "execution_count": 80,
   "id": "3bc93a10",
   "metadata": {},
   "outputs": [
    {
     "data": {
      "image/png": "[encoded data removed]",
      "text/plain": [
       "<Figure size 1000x600 with 1 Axes>"
      ]
     },
     "metadata": {},
     "output_type": "display_data"
    }
   ],
   "source": [
    "plt.figure(figsize=(10,6))\n",
    "sns.histplot(spoti['age'], bins = 5, edgecolor='red', color = 'skyblue', kde=True)\n",
    "plt.xticks([20, 27.4, 35, 42.6, 50.2], ['16-23.6', '23.6-31.2', '31.2-38.8', '38.8-46.4', '46.4-54.0'])\n",
    "plt.xlabel('Age')\n",
    "plt.ylabel('Count')\n",
    "plt.title('Histogram of Age')\n",
    "plt.grid()\n",
    "plt.show()"
   ]
  },
  {
   "cell_type": "code",
   "execution_count": 84,
   "id": "4d979ad5",
   "metadata": {},
   "outputs": [
    {
     "data": {
      "image/png": "[encoded data removed]",
      "text/plain": [
       "<Figure size 1000x600 with 1 Axes>"
      ]
     },
     "metadata": {},
     "output_type": "display_data"
    }
   ],
   "source": [
    "plt.figure(figsize=(10,6))\n",
    "sns.histplot(spoti['age'], bins=5, edgecolor='red', color='skyblue', kde=True)\n",
    "\n",
    "# Calculate actual bar centers instead of hardcoded values\n",
    "bin_edges = np.linspace(spoti['age'].min(), spoti['age'].max(), 6)  # 6 edges for 5 bins\n",
    "bar_centers = (bin_edges[:-1] + bin_edges[1:]) / 2  # Middle of each bin\n",
    "\n",
    "# Create labels\n",
    "bin_labels = [f'{bin_edges[i]:.1f}-{bin_edges[i+1]:.1f}' for i in range(5)]\n",
    "\n",
    "plt.xticks(bar_centers, bin_labels)  # Use actual bar centers\n",
    "plt.xlabel('Age')\n",
    "plt.ylabel('Count')\n",
    "plt.title('Histogram of Age')\n",
    "plt.grid()\n",
    "plt.show()"
   ]
  },
  {
   "cell_type": "markdown",
   "id": "6e5c50b4",
   "metadata": {},
   "source": [
    "# just goated"
   ]
  },
  {
   "cell_type": "code",
   "execution_count": 85,
   "id": "84e31773",
   "metadata": {},
   "outputs": [
    {
     "data": {
      "image/png": "[encoded data removed]",
      "text/plain": [
       "<Figure size 1000x600 with 1 Axes>"
      ]
     },
     "metadata": {},
     "output_type": "display_data"
    }
   ],
   "source": [
    "plt.figure(figsize=(10,6))\n",
    "\n",
    "# Use seaborn for KDE + histogram\n",
    "ax = sns.histplot(spoti['age'], bins=5, edgecolor='red', color='skyblue', kde=True)\n",
    "\n",
    "# Get the bar data from seaborn\n",
    "counts = [p.get_height() for p in ax.patches]  # Get heights from bars\n",
    "patches = ax.patches  # Get the bar objects\n",
    "\n",
    "# Add value labels on each bar\n",
    "for i, (count, patch) in enumerate(zip(counts, patches)):\n",
    "    plt.text(patch.get_x() + patch.get_width()/2, count + 5, f'{int(count)}', ha='center', va='bottom', fontweight='bold')\n",
    "\n",
    "# Calculate actual bar centers\n",
    "bin_edges = np.linspace(spoti['age'].min(), spoti['age'].max(), 6)\n",
    "bar_centers = (bin_edges[:-1] + bin_edges[1:]) / 2\n",
    "bin_labels = [f'{bin_edges[i]:.1f}-{bin_edges[i+1]:.1f}' for i in range(5)]\n",
    "\n",
    "plt.xticks(bar_centers, bin_labels)\n",
    "plt.xlabel('Age')\n",
    "plt.ylabel('Count')\n",
    "plt.title('Histogram of Age')\n",
    "plt.grid(alpha=0.3)\n",
    "plt.tight_layout()\n",
    "plt.show()"
   ]
  },
  {
   "cell_type": "code",
   "execution_count": 88,
   "id": "d39b0b7c",
   "metadata": {},
   "outputs": [
    {
     "data": {
      "text/plain": [
       "<seaborn.axisgrid.FacetGrid at 0x2abf84a11d0>"
      ]
     },
     "execution_count": 88,
     "metadata": {},
     "output_type": "execute_result"
    },
    {
     "data": {
      "image/png": "[encoded data removed]",
      "text/plain": [
       "<Figure size 500x500 with 1 Axes>"
      ]
     },
     "metadata": {},
     "output_type": "display_data"
    }
   ],
   "source": [
    "sns.displot(spoti['age'],kde=True)"
   ]
  },
  {
   "cell_type": "code",
   "execution_count": 91,
   "id": "a53c2150",
   "metadata": {},
   "outputs": [
    {
     "data": {
      "text/plain": [
       "<Axes: xlabel='age'>"
      ]
     },
     "execution_count": 91,
     "metadata": {},
     "output_type": "execute_result"
    },
    {
     "data": {
      "image/png": "[encoded data removed]",
      "text/plain": [
       "<Figure size 640x480 with 1 Axes>"
      ]
     },
     "metadata": {},
     "output_type": "display_data"
    }
   ],
   "source": [
    "sns.boxenplot(x=spoti['age'],)"
   ]
  },
  {
   "cell_type": "code",
   "execution_count": null,
   "id": "359a5d17",
   "metadata": {},
   "outputs": [],
   "source": []
  }
 ],
 "metadata": {
  "kernelspec": {
   "display_name": "base",
   "language": "python",
   "name": "python3"
  },
  "language_info": {
   "codemirror_mode": {
    "name": "ipython",
    "version": 3
   },
   "file_extension": ".py",
   "mimetype": "text/x-python",
   "name": "python",
   "nbconvert_exporter": "python",
   "pygments_lexer": "ipython3",
   "version": "3.13.5"
  }
 },
 "nbformat": 4,
 "nbformat_minor": 5
}
