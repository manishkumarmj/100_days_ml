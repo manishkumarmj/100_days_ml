{
 "cells": [
  {
   "cell_type": "code",
   "execution_count": 26,
   "id": "5b3ea5f6",
   "metadata": {},
   "outputs": [],
   "source": [
    "import pandas as pd\n",
    "import seaborn as sns\n",
    "import matplotlib.pyplot as plt\n"
   ]
  },
  {
   "cell_type": "code",
   "execution_count": 27,
   "id": "82366832",
   "metadata": {},
   "outputs": [],
   "source": [
    "spoti =pd.read_csv('spotify_churn_dataset.csv') \n"
   ]
  },
  {
   "cell_type": "code",
   "execution_count": 28,
   "id": "4c8dd94c",
   "metadata": {},
   "outputs": [
    {
     "data": {
      "application/vnd.microsoft.datawrangler.viewer.v0+json": {
       "columns": [
        {
         "name": "index",
         "rawType": "int64",
         "type": "integer"
        },
        {
         "name": "user_id",
         "rawType": "int64",
         "type": "integer"
        },
        {
         "name": "gender",
         "rawType": "object",
         "type": "string"
        },
        {
         "name": "age",
         "rawType": "int64",
         "type": "integer"
        },
        {
         "name": "country",
         "rawType": "object",
         "type": "string"
        },
        {
         "name": "subscription_type",
         "rawType": "object",
         "type": "string"
        },
        {
         "name": "listening_time",
         "rawType": "int64",
         "type": "integer"
        },
        {
         "name": "songs_played_per_day",
         "rawType": "int64",
         "type": "integer"
        },
        {
         "name": "skip_rate",
         "rawType": "float64",
         "type": "float"
        },
        {
         "name": "device_type",
         "rawType": "object",
         "type": "string"
        },
        {
         "name": "ads_listened_per_week",
         "rawType": "int64",
         "type": "integer"
        },
        {
         "name": "offline_listening",
         "rawType": "int64",
         "type": "integer"
        },
        {
         "name": "is_churned",
         "rawType": "int64",
         "type": "integer"
        }
       ],
       "ref": "fa9a7f9c-f655-42ed-8e32-56f00d84a3ee",
       "rows": [
        [
         "7484",
         "7485",
         "Male",
         "53",
         "US",
         "Free",
         "27",
         "14",
         "0.2",
         "Mobile",
         "21",
         "0",
         "0"
        ],
        [
         "1448",
         "1449",
         "Other",
         "51",
         "PK",
         "Student",
         "212",
         "97",
         "0.29",
         "Web",
         "0",
         "1",
         "0"
        ],
        [
         "979",
         "980",
         "Male",
         "50",
         "IN",
         "Family",
         "128",
         "60",
         "0.1",
         "Mobile",
         "0",
         "1",
         "0"
        ],
        [
         "4345",
         "4346",
         "Male",
         "39",
         "FR",
         "Free",
         "132",
         "69",
         "0.58",
         "Web",
         "31",
         "0",
         "0"
        ],
        [
         "122",
         "123",
         "Male",
         "21",
         "US",
         "Free",
         "32",
         "34",
         "0.52",
         "Web",
         "14",
         "0",
         "1"
        ],
        [
         "471",
         "472",
         "Male",
         "20",
         "US",
         "Premium",
         "16",
         "82",
         "0.09",
         "Web",
         "0",
         "1",
         "0"
        ],
        [
         "6870",
         "6871",
         "Male",
         "48",
         "DE",
         "Premium",
         "202",
         "63",
         "0.54",
         "Desktop",
         "0",
         "1",
         "0"
        ],
        [
         "5552",
         "5553",
         "Other",
         "43",
         "DE",
         "Family",
         "154",
         "74",
         "0.49",
         "Web",
         "0",
         "1",
         "0"
        ],
        [
         "524",
         "525",
         "Male",
         "47",
         "CA",
         "Family",
         "75",
         "19",
         "0.28",
         "Mobile",
         "0",
         "1",
         "0"
        ],
        [
         "5414",
         "5415",
         "Male",
         "56",
         "DE",
         "Family",
         "47",
         "49",
         "0.54",
         "Desktop",
         "0",
         "1",
         "0"
        ],
        [
         "781",
         "782",
         "Male",
         "32",
         "US",
         "Premium",
         "71",
         "53",
         "0.54",
         "Web",
         "0",
         "1",
         "0"
        ],
        [
         "7623",
         "7624",
         "Female",
         "50",
         "US",
         "Premium",
         "199",
         "26",
         "0.29",
         "Desktop",
         "0",
         "1",
         "0"
        ],
        [
         "591",
         "592",
         "Male",
         "58",
         "UK",
         "Premium",
         "178",
         "98",
         "0.43",
         "Desktop",
         "0",
         "1",
         "0"
        ],
        [
         "6718",
         "6719",
         "Female",
         "19",
         "FR",
         "Free",
         "119",
         "99",
         "0.38",
         "Mobile",
         "36",
         "0",
         "0"
        ],
        [
         "5482",
         "5483",
         "Male",
         "55",
         "AU",
         "Free",
         "197",
         "12",
         "0.37",
         "Web",
         "19",
         "0",
         "0"
        ],
        [
         "598",
         "599",
         "Male",
         "19",
         "DE",
         "Premium",
         "222",
         "80",
         "0.46",
         "Mobile",
         "0",
         "1",
         "0"
        ],
        [
         "2905",
         "2906",
         "Female",
         "24",
         "UK",
         "Free",
         "15",
         "86",
         "0.54",
         "Web",
         "38",
         "0",
         "0"
        ],
        [
         "1591",
         "1592",
         "Female",
         "59",
         "AU",
         "Free",
         "88",
         "32",
         "0.1",
         "Mobile",
         "22",
         "0",
         "0"
        ],
        [
         "1070",
         "1071",
         "Other",
         "28",
         "DE",
         "Premium",
         "178",
         "14",
         "0.35",
         "Web",
         "0",
         "1",
         "0"
        ],
        [
         "7875",
         "7876",
         "Other",
         "19",
         "UK",
         "Student",
         "96",
         "22",
         "0.28",
         "Desktop",
         "0",
         "1",
         "0"
        ],
        [
         "3855",
         "3856",
         "Female",
         "49",
         "UK",
         "Family",
         "82",
         "53",
         "0.4",
         "Mobile",
         "0",
         "1",
         "1"
        ],
        [
         "4308",
         "4309",
         "Male",
         "46",
         "IN",
         "Family",
         "49",
         "74",
         "0.2",
         "Desktop",
         "0",
         "1",
         "1"
        ],
        [
         "2082",
         "2083",
         "Female",
         "53",
         "CA",
         "Free",
         "52",
         "20",
         "0.37",
         "Mobile",
         "42",
         "0",
         "0"
        ],
        [
         "7921",
         "7922",
         "Female",
         "17",
         "CA",
         "Family",
         "62",
         "90",
         "0.34",
         "Web",
         "0",
         "1",
         "0"
        ],
        [
         "626",
         "627",
         "Female",
         "37",
         "AU",
         "Family",
         "192",
         "7",
         "0.39",
         "Desktop",
         "0",
         "1",
         "0"
        ],
        [
         "5350",
         "5351",
         "Female",
         "30",
         "PK",
         "Family",
         "150",
         "78",
         "0.47",
         "Mobile",
         "0",
         "1",
         "0"
        ],
        [
         "6918",
         "6919",
         "Male",
         "33",
         "FR",
         "Student",
         "62",
         "14",
         "0.04",
         "Web",
         "0",
         "1",
         "0"
        ],
        [
         "4079",
         "4080",
         "Other",
         "28",
         "PK",
         "Free",
         "64",
         "97",
         "0.13",
         "Desktop",
         "45",
         "0",
         "0"
        ],
        [
         "332",
         "333",
         "Male",
         "46",
         "CA",
         "Family",
         "152",
         "83",
         "0.58",
         "Mobile",
         "0",
         "1",
         "0"
        ],
        [
         "2673",
         "2674",
         "Other",
         "31",
         "UK",
         "Premium",
         "76",
         "6",
         "0.02",
         "Web",
         "0",
         "1",
         "0"
        ],
        [
         "7963",
         "7964",
         "Male",
         "28",
         "UK",
         "Premium",
         "151",
         "70",
         "0.1",
         "Web",
         "0",
         "1",
         "0"
        ],
        [
         "3402",
         "3403",
         "Male",
         "17",
         "UK",
         "Family",
         "53",
         "54",
         "0.24",
         "Desktop",
         "0",
         "1",
         "1"
        ],
        [
         "6996",
         "6997",
         "Female",
         "58",
         "US",
         "Premium",
         "122",
         "61",
         "0.2",
         "Mobile",
         "0",
         "1",
         "1"
        ],
        [
         "2983",
         "2984",
         "Male",
         "42",
         "CA",
         "Student",
         "43",
         "35",
         "0.58",
         "Desktop",
         "0",
         "1",
         "1"
        ],
        [
         "6689",
         "6690",
         "Male",
         "39",
         "IN",
         "Free",
         "67",
         "38",
         "0.53",
         "Web",
         "36",
         "0",
         "0"
        ],
        [
         "6074",
         "6075",
         "Other",
         "40",
         "CA",
         "Family",
         "80",
         "46",
         "0.39",
         "Desktop",
         "0",
         "1",
         "0"
        ],
        [
         "6742",
         "6743",
         "Female",
         "52",
         "IN",
         "Free",
         "252",
         "63",
         "0.34",
         "Web",
         "29",
         "0",
         "0"
        ],
        [
         "1324",
         "1325",
         "Female",
         "59",
         "UK",
         "Premium",
         "227",
         "23",
         "0.07",
         "Mobile",
         "0",
         "1",
         "0"
        ],
        [
         "4449",
         "4450",
         "Other",
         "22",
         "PK",
         "Family",
         "161",
         "78",
         "0.29",
         "Desktop",
         "0",
         "1",
         "1"
        ],
        [
         "6693",
         "6694",
         "Male",
         "30",
         "DE",
         "Free",
         "206",
         "88",
         "0.22",
         "Web",
         "39",
         "0",
         "0"
        ],
        [
         "1513",
         "1514",
         "Female",
         "40",
         "PK",
         "Family",
         "155",
         "61",
         "0.46",
         "Mobile",
         "0",
         "1",
         "1"
        ],
        [
         "3056",
         "3057",
         "Female",
         "22",
         "CA",
         "Family",
         "100",
         "92",
         "0.6",
         "Desktop",
         "0",
         "1",
         "0"
        ],
        [
         "5203",
         "5204",
         "Female",
         "43",
         "US",
         "Premium",
         "218",
         "63",
         "0.14",
         "Mobile",
         "0",
         "1",
         "1"
        ],
        [
         "3306",
         "3307",
         "Male",
         "42",
         "CA",
         "Student",
         "245",
         "81",
         "0.46",
         "Mobile",
         "0",
         "1",
         "1"
        ],
        [
         "928",
         "929",
         "Female",
         "45",
         "FR",
         "Premium",
         "246",
         "52",
         "0.35",
         "Desktop",
         "0",
         "1",
         "0"
        ],
        [
         "7123",
         "7124",
         "Male",
         "29",
         "PK",
         "Free",
         "90",
         "75",
         "0.52",
         "Web",
         "16",
         "0",
         "0"
        ],
        [
         "2292",
         "2293",
         "Other",
         "35",
         "UK",
         "Premium",
         "163",
         "85",
         "0.19",
         "Web",
         "0",
         "1",
         "0"
        ],
        [
         "4196",
         "4197",
         "Other",
         "47",
         "DE",
         "Premium",
         "225",
         "68",
         "0.25",
         "Desktop",
         "0",
         "1",
         "1"
        ],
        [
         "2257",
         "2258",
         "Female",
         "28",
         "US",
         "Family",
         "33",
         "10",
         "0.2",
         "Mobile",
         "0",
         "1",
         "0"
        ],
        [
         "2583",
         "2584",
         "Male",
         "41",
         "US",
         "Family",
         "197",
         "9",
         "0.58",
         "Web",
         "0",
         "1",
         "0"
        ]
       ],
       "shape": {
        "columns": 12,
        "rows": 100
       }
      },
      "text/html": [
       "<div>\n",
       "<style scoped>\n",
       "    .dataframe tbody tr th:only-of-type {\n",
       "        vertical-align: middle;\n",
       "    }\n",
       "\n",
       "    .dataframe tbody tr th {\n",
       "        vertical-align: top;\n",
       "    }\n",
       "\n",
       "    .dataframe thead th {\n",
       "        text-align: right;\n",
       "    }\n",
       "</style>\n",
       "<table border=\"1\" class=\"dataframe\">\n",
       "  <thead>\n",
       "    <tr style=\"text-align: right;\">\n",
       "      <th></th>\n",
       "      <th>user_id</th>\n",
       "      <th>gender</th>\n",
       "      <th>age</th>\n",
       "      <th>country</th>\n",
       "      <th>subscription_type</th>\n",
       "      <th>listening_time</th>\n",
       "      <th>songs_played_per_day</th>\n",
       "      <th>skip_rate</th>\n",
       "      <th>device_type</th>\n",
       "      <th>ads_listened_per_week</th>\n",
       "      <th>offline_listening</th>\n",
       "      <th>is_churned</th>\n",
       "    </tr>\n",
       "  </thead>\n",
       "  <tbody>\n",
       "    <tr>\n",
       "      <th>7484</th>\n",
       "      <td>7485</td>\n",
       "      <td>Male</td>\n",
       "      <td>53</td>\n",
       "      <td>US</td>\n",
       "      <td>Free</td>\n",
       "      <td>27</td>\n",
       "      <td>14</td>\n",
       "      <td>0.20</td>\n",
       "      <td>Mobile</td>\n",
       "      <td>21</td>\n",
       "      <td>0</td>\n",
       "      <td>0</td>\n",
       "    </tr>\n",
       "    <tr>\n",
       "      <th>1448</th>\n",
       "      <td>1449</td>\n",
       "      <td>Other</td>\n",
       "      <td>51</td>\n",
       "      <td>PK</td>\n",
       "      <td>Student</td>\n",
       "      <td>212</td>\n",
       "      <td>97</td>\n",
       "      <td>0.29</td>\n",
       "      <td>Web</td>\n",
       "      <td>0</td>\n",
       "      <td>1</td>\n",
       "      <td>0</td>\n",
       "    </tr>\n",
       "    <tr>\n",
       "      <th>979</th>\n",
       "      <td>980</td>\n",
       "      <td>Male</td>\n",
       "      <td>50</td>\n",
       "      <td>IN</td>\n",
       "      <td>Family</td>\n",
       "      <td>128</td>\n",
       "      <td>60</td>\n",
       "      <td>0.10</td>\n",
       "      <td>Mobile</td>\n",
       "      <td>0</td>\n",
       "      <td>1</td>\n",
       "      <td>0</td>\n",
       "    </tr>\n",
       "    <tr>\n",
       "      <th>4345</th>\n",
       "      <td>4346</td>\n",
       "      <td>Male</td>\n",
       "      <td>39</td>\n",
       "      <td>FR</td>\n",
       "      <td>Free</td>\n",
       "      <td>132</td>\n",
       "      <td>69</td>\n",
       "      <td>0.58</td>\n",
       "      <td>Web</td>\n",
       "      <td>31</td>\n",
       "      <td>0</td>\n",
       "      <td>0</td>\n",
       "    </tr>\n",
       "    <tr>\n",
       "      <th>122</th>\n",
       "      <td>123</td>\n",
       "      <td>Male</td>\n",
       "      <td>21</td>\n",
       "      <td>US</td>\n",
       "      <td>Free</td>\n",
       "      <td>32</td>\n",
       "      <td>34</td>\n",
       "      <td>0.52</td>\n",
       "      <td>Web</td>\n",
       "      <td>14</td>\n",
       "      <td>0</td>\n",
       "      <td>1</td>\n",
       "    </tr>\n",
       "    <tr>\n",
       "      <th>...</th>\n",
       "      <td>...</td>\n",
       "      <td>...</td>\n",
       "      <td>...</td>\n",
       "      <td>...</td>\n",
       "      <td>...</td>\n",
       "      <td>...</td>\n",
       "      <td>...</td>\n",
       "      <td>...</td>\n",
       "      <td>...</td>\n",
       "      <td>...</td>\n",
       "      <td>...</td>\n",
       "      <td>...</td>\n",
       "    </tr>\n",
       "    <tr>\n",
       "      <th>5270</th>\n",
       "      <td>5271</td>\n",
       "      <td>Other</td>\n",
       "      <td>57</td>\n",
       "      <td>CA</td>\n",
       "      <td>Premium</td>\n",
       "      <td>91</td>\n",
       "      <td>22</td>\n",
       "      <td>0.03</td>\n",
       "      <td>Web</td>\n",
       "      <td>0</td>\n",
       "      <td>1</td>\n",
       "      <td>0</td>\n",
       "    </tr>\n",
       "    <tr>\n",
       "      <th>3028</th>\n",
       "      <td>3029</td>\n",
       "      <td>Other</td>\n",
       "      <td>28</td>\n",
       "      <td>IN</td>\n",
       "      <td>Family</td>\n",
       "      <td>205</td>\n",
       "      <td>60</td>\n",
       "      <td>0.32</td>\n",
       "      <td>Mobile</td>\n",
       "      <td>0</td>\n",
       "      <td>1</td>\n",
       "      <td>0</td>\n",
       "    </tr>\n",
       "    <tr>\n",
       "      <th>2982</th>\n",
       "      <td>2983</td>\n",
       "      <td>Male</td>\n",
       "      <td>51</td>\n",
       "      <td>PK</td>\n",
       "      <td>Free</td>\n",
       "      <td>228</td>\n",
       "      <td>36</td>\n",
       "      <td>0.23</td>\n",
       "      <td>Web</td>\n",
       "      <td>21</td>\n",
       "      <td>0</td>\n",
       "      <td>1</td>\n",
       "    </tr>\n",
       "    <tr>\n",
       "      <th>6057</th>\n",
       "      <td>6058</td>\n",
       "      <td>Female</td>\n",
       "      <td>35</td>\n",
       "      <td>FR</td>\n",
       "      <td>Free</td>\n",
       "      <td>80</td>\n",
       "      <td>77</td>\n",
       "      <td>0.52</td>\n",
       "      <td>Desktop</td>\n",
       "      <td>26</td>\n",
       "      <td>0</td>\n",
       "      <td>0</td>\n",
       "    </tr>\n",
       "    <tr>\n",
       "      <th>2771</th>\n",
       "      <td>2772</td>\n",
       "      <td>Female</td>\n",
       "      <td>32</td>\n",
       "      <td>UK</td>\n",
       "      <td>Premium</td>\n",
       "      <td>28</td>\n",
       "      <td>2</td>\n",
       "      <td>0.50</td>\n",
       "      <td>Web</td>\n",
       "      <td>0</td>\n",
       "      <td>1</td>\n",
       "      <td>1</td>\n",
       "    </tr>\n",
       "  </tbody>\n",
       "</table>\n",
       "<p>100 rows × 12 columns</p>\n",
       "</div>"
      ],
      "text/plain": [
       "      user_id  gender  age country subscription_type  listening_time  \\\n",
       "7484     7485    Male   53      US              Free              27   \n",
       "1448     1449   Other   51      PK           Student             212   \n",
       "979       980    Male   50      IN            Family             128   \n",
       "4345     4346    Male   39      FR              Free             132   \n",
       "122       123    Male   21      US              Free              32   \n",
       "...       ...     ...  ...     ...               ...             ...   \n",
       "5270     5271   Other   57      CA           Premium              91   \n",
       "3028     3029   Other   28      IN            Family             205   \n",
       "2982     2983    Male   51      PK              Free             228   \n",
       "6057     6058  Female   35      FR              Free              80   \n",
       "2771     2772  Female   32      UK           Premium              28   \n",
       "\n",
       "      songs_played_per_day  skip_rate device_type  ads_listened_per_week  \\\n",
       "7484                    14       0.20      Mobile                     21   \n",
       "1448                    97       0.29         Web                      0   \n",
       "979                     60       0.10      Mobile                      0   \n",
       "4345                    69       0.58         Web                     31   \n",
       "122                     34       0.52         Web                     14   \n",
       "...                    ...        ...         ...                    ...   \n",
       "5270                    22       0.03         Web                      0   \n",
       "3028                    60       0.32      Mobile                      0   \n",
       "2982                    36       0.23         Web                     21   \n",
       "6057                    77       0.52     Desktop                     26   \n",
       "2771                     2       0.50         Web                      0   \n",
       "\n",
       "      offline_listening  is_churned  \n",
       "7484                  0           0  \n",
       "1448                  1           0  \n",
       "979                   1           0  \n",
       "4345                  0           0  \n",
       "122                   0           1  \n",
       "...                 ...         ...  \n",
       "5270                  1           0  \n",
       "3028                  1           0  \n",
       "2982                  0           1  \n",
       "6057                  0           0  \n",
       "2771                  1           1  \n",
       "\n",
       "[100 rows x 12 columns]"
      ]
     },
     "execution_count": 28,
     "metadata": {},
     "output_type": "execute_result"
    }
   ],
   "source": [
    "spoti.sample(100)\n",
    "# to remove missing  --> data. dropna()"
   ]
  },
  {
   "cell_type": "markdown",
   "id": "0c03191a",
   "metadata": {},
   "source": [
    "# Filling the value "
   ]
  },
  {
   "cell_type": "markdown",
   "id": "561063c2",
   "metadata": {},
   "source": [
    "# Fill all missing values with 0\n",
    "spoti = spoti.fillna(0)\n",
    "\n",
    "# Fill with a specific string\n",
    "spoti = spoti.fillna('Unknown')\n",
    "\n",
    "# Fill with a custom value\n",
    "spoti = spoti.fillna(-999)"
   ]
  },
  {
   "cell_type": "code",
   "execution_count": 29,
   "id": "44acf44c",
   "metadata": {},
   "outputs": [
    {
     "name": "stderr",
     "output_type": "stream",
     "text": [
      "C:\\Users\\manis\\AppData\\Local\\Temp\\ipykernel_9452\\1684164723.py:1: FutureWarning: \n",
      "\n",
      "Passing `palette` without assigning `hue` is deprecated and will be removed in v0.14.0. Assign the `x` variable to `hue` and set `legend=False` for the same effect.\n",
      "\n",
      "  sns.countplot(x=spoti['gender'],palette='Set2')\n"
     ]
    },
    {
     "data": {
      "text/plain": [
       "<Axes: xlabel='gender', ylabel='count'>"
      ]
     },
     "execution_count": 29,
     "metadata": {},
     "output_type": "execute_result"
    },
    {
     "data": {
      "image/png": "[encoded data removed]",
      "text/plain": [
       "<Figure size 800x550 with 1 Axes>"
      ]
     },
     "metadata": {},
     "output_type": "display_data"
    }
   ],
   "source": [
    "sns.countplot(x=spoti['gender'],palette='Set2')"
   ]
  },
  {
   "cell_type": "markdown",
   "id": "d7d3d7fb",
   "metadata": {},
   "source": [
    "# set ylim &  xlim \n",
    "set the range your axis "
   ]
  },
  {
   "cell_type": "code",
   "execution_count": 30,
   "id": "7225f877",
   "metadata": {},
   "outputs": [
    {
     "name": "stderr",
     "output_type": "stream",
     "text": [
      "C:\\Users\\manis\\AppData\\Local\\Temp\\ipykernel_9452\\485129175.py:2: FutureWarning: \n",
      "\n",
      "Passing `palette` without assigning `hue` is deprecated and will be removed in v0.14.0. Assign the `x` variable to `hue` and set `legend=False` for the same effect.\n",
      "\n",
      "  ax = sns.countplot(data=spoti, x='gender', palette='Set2')\n"
     ]
    },
    {
     "data": {
      "image/png": "[encoded data removed]",
      "text/plain": [
       "<Figure size 800x600 with 1 Axes>"
      ]
     },
     "metadata": {},
     "output_type": "display_data"
    }
   ],
   "source": [
    "plt.figure(figsize=(8, 6))\n",
    "ax = sns.countplot(data=spoti, x='gender', palette='Set2')\n",
    "ax.set_ylim(2600, None)  # Add parentheses and upper limit\n",
    "plt.show()"
   ]
  },
  {
   "cell_type": "code",
   "execution_count": 31,
   "id": "d12a3fba",
   "metadata": {},
   "outputs": [
    {
     "name": "stderr",
     "output_type": "stream",
     "text": [
      "C:\\Users\\manis\\AppData\\Local\\Temp\\ipykernel_9452\\597004517.py:3: FutureWarning: \n",
      "\n",
      "Passing `palette` without assigning `hue` is deprecated and will be removed in v0.14.0. Assign the `x` variable to `hue` and set `legend=False` for the same effect.\n",
      "\n",
      "  ax = sns.countplot(data=spoti, x='gender', palette='Set2')\n"
     ]
    },
    {
     "data": {
      "image/png": "[encoded data removed]",
      "text/plain": [
       "<Figure size 800x600 with 1 Axes>"
      ]
     },
     "metadata": {},
     "output_type": "display_data"
    },
    {
     "name": "stdout",
     "output_type": "stream",
     "text": [
      "Exact gender counts:\n",
      "gender\n",
      "Male      2691\n",
      "Female    2659\n",
      "Other     2650\n",
      "Name: count, dtype: int64\n"
     ]
    }
   ],
   "source": [
    "# Create the countplot\n",
    "plt.figure(figsize=(8, 6))\n",
    "ax = sns.countplot(data=spoti, x='gender', palette='Set2')\n",
    "\n",
    "# Set y-axis limits to focus on 2600-2700 range\n",
    "ax.set_ylim(2600, 2700)  # Narrow range to see precise differences\n",
    "\n",
    "# Add value labels on top of each bar to see exact counts\n",
    "for container in ax.containers:\n",
    "    ax.bar_label(container, fmt='%d', label_type='edge', padding=3)\n",
    "\n",
    "plt.title('Gender Distribution (Zoomed: 2600-2700 range)')\n",
    "plt.tight_layout()\n",
    "plt.grid()\n",
    "plt.show()\n",
    "\n",
    "# Also print the exact counts for reference\n",
    "print(\"Exact gender counts:\")\n",
    "print(spoti['gender'].value_counts())"
   ]
  },
  {
   "cell_type": "code",
   "execution_count": null,
   "id": "e7ccf60a",
   "metadata": {},
   "outputs": [
    {
     "name": "stderr",
     "output_type": "stream",
     "text": [
      "C:\\Users\\manis\\AppData\\Local\\Temp\\ipykernel_9452\\2450006138.py:9: FutureWarning: \n",
      "\n",
      "Passing `palette` without assigning `hue` is deprecated and will be removed in v0.14.0. Assign the `x` variable to `hue` and set `legend=False` for the same effect.\n",
      "\n",
      "  ax = sns.countplot(data=spoti, x='gender', palette='viridis', edgecolor='black', linewidth=1.2, alpha=0.9)\n"
     ]
    },
    {
     "ename": "NameError",
     "evalue": "name 'Patch' is not defined",
     "output_type": "error",
     "traceback": [
      "\u001b[1;31m---------------------------------------------------------------------------\u001b[0m",
      "\u001b[1;31mNameError\u001b[0m                                 Traceback (most recent call last)",
      "Cell \u001b[1;32mIn[32], line 32\u001b[0m\n\u001b[0;32m     29\u001b[0m plt\u001b[38;5;241m.\u001b[39myticks(fontsize\u001b[38;5;241m=\u001b[39m\u001b[38;5;241m12\u001b[39m)\n\u001b[0;32m     31\u001b[0m \u001b[38;5;66;03m# FIXED: Add legend with correct color extraction\u001b[39;00m\n\u001b[1;32m---> 32\u001b[0m legend_elements \u001b[38;5;241m=\u001b[39m [Patch(facecolor\u001b[38;5;241m=\u001b[39mpatch\u001b[38;5;241m.\u001b[39mget_facecolor(), label\u001b[38;5;241m=\u001b[39mlabel, alpha\u001b[38;5;241m=\u001b[39m\u001b[38;5;241m0.9\u001b[39m) \u001b[38;5;28;01mfor\u001b[39;00m patch, label \u001b[38;5;129;01min\u001b[39;00m \u001b[38;5;28mzip\u001b[39m(ax\u001b[38;5;241m.\u001b[39mpatches, spoti[\u001b[38;5;124m'\u001b[39m\u001b[38;5;124mgender\u001b[39m\u001b[38;5;124m'\u001b[39m]\u001b[38;5;241m.\u001b[39mvalue_counts()\u001b[38;5;241m.\u001b[39mindex)]\n\u001b[0;32m     33\u001b[0m ax\u001b[38;5;241m.\u001b[39mlegend(handles\u001b[38;5;241m=\u001b[39mlegend_elements, title\u001b[38;5;241m=\u001b[39m\u001b[38;5;124m'\u001b[39m\u001b[38;5;124mGender Categories\u001b[39m\u001b[38;5;124m'\u001b[39m, title_fontsize\u001b[38;5;241m=\u001b[39m\u001b[38;5;241m12\u001b[39m, fontsize\u001b[38;5;241m=\u001b[39m\u001b[38;5;241m11\u001b[39m, loc\u001b[38;5;241m=\u001b[39m\u001b[38;5;124m'\u001b[39m\u001b[38;5;124mupper right\u001b[39m\u001b[38;5;124m'\u001b[39m)\n\u001b[0;32m     35\u001b[0m \u001b[38;5;66;03m# Add some annotations for context\u001b[39;00m\n",
      "\u001b[1;31mNameError\u001b[0m: name 'Patch' is not defined"
     ]
    },
    {
     "name": "stderr",
     "output_type": "stream",
     "text": [
      "c:\\Users\\manis\\anaconda3\\Lib\\site-packages\\IPython\\core\\events.py:82: UserWarning: Glyph 127925 (\\N{MUSICAL NOTE}) missing from font(s) Arial.\n",
      "  func(*args, **kwargs)\n",
      "c:\\Users\\manis\\anaconda3\\Lib\\site-packages\\IPython\\core\\pylabtools.py:170: UserWarning: Glyph 127925 (\\N{MUSICAL NOTE}) missing from font(s) Arial.\n",
      "  fig.canvas.print_figure(bytes_io, **kw)\n"
     ]
    },
    {
     "data": {
      "image/png": "[encoded data removed]",
      "text/plain": [
       "<Figure size 1000x700 with 1 Axes>"
      ]
     },
     "metadata": {},
     "output_type": "display_data"
    }
   ],
   "source": [
    "\n",
    "\n",
    "# Set style for fancy look\n",
    "plt.style.use('seaborn-v0_8')\n",
    "sns.set_palette(\"Set2\")\n",
    "\n",
    "spoti = pd.read_csv('spotify_churn_dataset.csv')\n",
    "\n",
    "# Create figure with custom size\n",
    "plt.figure(figsize=(10, 7))\n",
    "ax = sns.countplot(data=spoti, x='gender', palette='viridis', edgecolor='black', linewidth=1.2, alpha=0.9)\n",
    "\n",
    "# Set y-axis limits\n",
    "ax.set_ylim(2600, 2700)\n",
    "\n",
    "# Add exact numbers on bars with fancy styling\n",
    "for container in ax.containers:\n",
    "    ax.bar_label(container, fmt='%d', label_type='edge', fontsize=12, fontweight='bold', color='darkblue', padding=8)\n",
    "\n",
    "# Customize grid\n",
    "ax.grid(True, alpha=0.3, linestyle='--', linewidth=0.5)\n",
    "ax.set_axisbelow(True)  # Grid behind bars\n",
    "\n",
    "# Titles and labels with fancy fonts\n",
    "plt.title('🎵 Spotify User Gender Distribution 🎵', fontsize=16, fontweight='bold', pad=20)\n",
    "plt.xlabel('Gender', fontsize=14, fontweight='bold')\n",
    "plt.ylabel('Count', fontsize=14, fontweight='bold')\n",
    "\n",
    "# Customize ticks\n",
    "plt.xticks(fontsize=12, rotation=0)\n",
    "plt.yticks(fontsize=12)\n",
    "# FIXED: Add legend with correct color extraction\n",
    "legend_elements = [Patch(facecolor=patch.get_facecolor(), label=label, alpha=0.9) for patch, label in zip(ax.patches, spoti['gender'].value_counts().index)]\n",
    "ax.legend(handles=legend_elements, title='Gender Categories', title_fontsize=12, fontsize=11, loc='upper right')\n",
    "\n",
    "# Add some annotations for context\n",
    "total_users = len(spoti)\n",
    "ax.annotate(f'Total Users: {total_users:,}', \n",
    "            xy=(0.02, 0.95), xycoords='axes fraction', \n",
    "            fontsize=12, bbox=dict(boxstyle=\"round,pad=0.3\", fc=\"white\", alpha=0.8))\n",
    "\n",
    "# Remove spines for cleaner look\n",
    "ax.spines['top'].set_visible(False)\n",
    "ax.spines['right'].set_visible(False)\n",
    "ax.spines['left'].set_linewidth(1.2)\n",
    "ax.spines['bottom'].set_linewidth(1.2)\n",
    "\n",
    "# Add background color\n",
    "ax.set_facecolor('#f8f9fa')\n",
    "plt.gcf().patch.set_facecolor('white')\n",
    "\n",
    "# Tight layout\n",
    "plt.tight_layout()\n",
    "\n",
    "# Add watermark\n",
    "plt.figtext(0.95, 0.02, 'Spotify Analytics', fontsize=10, alpha=0.5, ha='right')\n",
    "\n",
    "plt.show()\n",
    "\n",
    "# Print detailed statistics\n",
    "print(\"\\n\" + \"=\"*50)\n",
    "print(\"📊 DETAILED GENDER STATISTICS\")\n",
    "print(\"=\"*50)\n",
    "gender_counts = spoti['gender'].value_counts()\n",
    "print(gender_counts)\n",
    "print(f\"\\n📈 Statistics:\")\n",
    "print(f\"Total Users: {len(spoti):,}\")\n",
    "print(f\"Gender with highest count: {gender_counts.idxmax()} ({gender_counts.max()})\")\n",
    "print(f\"Gender with lowest count: {gender_counts.idxmin()} ({gender_counts.min()})\")\n",
    "print(f\"Difference: {gender_counts.max() - gender_counts.min()} users\")"
   ]
  },
  {
   "cell_type": "code",
   "execution_count": null,
   "id": "d527f407",
   "metadata": {},
   "outputs": [
    {
     "data": {
      "application/vnd.microsoft.datawrangler.viewer.v0+json": {
       "columns": [
        {
         "name": "index",
         "rawType": "int64",
         "type": "integer"
        },
        {
         "name": "user_id",
         "rawType": "int64",
         "type": "integer"
        },
        {
         "name": "gender",
         "rawType": "object",
         "type": "string"
        },
        {
         "name": "age",
         "rawType": "int64",
         "type": "integer"
        },
        {
         "name": "country",
         "rawType": "object",
         "type": "string"
        },
        {
         "name": "subscription_type",
         "rawType": "object",
         "type": "string"
        },
        {
         "name": "listening_time",
         "rawType": "int64",
         "type": "integer"
        },
        {
         "name": "songs_played_per_day",
         "rawType": "int64",
         "type": "integer"
        },
        {
         "name": "skip_rate",
         "rawType": "float64",
         "type": "float"
        },
        {
         "name": "device_type",
         "rawType": "object",
         "type": "string"
        },
        {
         "name": "ads_listened_per_week",
         "rawType": "int64",
         "type": "integer"
        },
        {
         "name": "offline_listening",
         "rawType": "int64",
         "type": "integer"
        },
        {
         "name": "is_churned",
         "rawType": "int64",
         "type": "integer"
        }
       ],
       "ref": "0501087c-f1e6-4396-aa39-6f0129ea15e6",
       "rows": [
        [
         "2148",
         "2149",
         "Male",
         "48",
         "FR",
         "Free",
         "30",
         "82",
         "0.11",
         "Desktop",
         "16",
         "0",
         "1"
        ],
        [
         "884",
         "885",
         "Male",
         "22",
         "IN",
         "Family",
         "140",
         "52",
         "0.36",
         "Desktop",
         "0",
         "1",
         "0"
        ],
        [
         "3469",
         "3470",
         "Other",
         "34",
         "IN",
         "Student",
         "187",
         "65",
         "0.25",
         "Web",
         "0",
         "1",
         "1"
        ],
        [
         "5056",
         "5057",
         "Female",
         "17",
         "DE",
         "Free",
         "125",
         "18",
         "0.35",
         "Web",
         "45",
         "0",
         "0"
        ],
        [
         "4767",
         "4768",
         "Other",
         "16",
         "DE",
         "Family",
         "110",
         "24",
         "0.45",
         "Mobile",
         "0",
         "1",
         "0"
        ],
        [
         "7339",
         "7340",
         "Male",
         "26",
         "AU",
         "Premium",
         "246",
         "37",
         "0.53",
         "Mobile",
         "0",
         "1",
         "0"
        ],
        [
         "704",
         "705",
         "Male",
         "22",
         "AU",
         "Student",
         "169",
         "52",
         "0.1",
         "Mobile",
         "0",
         "1",
         "1"
        ],
        [
         "595",
         "596",
         "Female",
         "32",
         "FR",
         "Student",
         "215",
         "39",
         "0.4",
         "Desktop",
         "0",
         "1",
         "0"
        ],
        [
         "5564",
         "5565",
         "Male",
         "54",
         "UK",
         "Premium",
         "144",
         "49",
         "0.27",
         "Desktop",
         "0",
         "1",
         "1"
        ],
        [
         "6254",
         "6255",
         "Other",
         "57",
         "US",
         "Premium",
         "33",
         "48",
         "0.48",
         "Web",
         "0",
         "1",
         "0"
        ]
       ],
       "shape": {
        "columns": 12,
        "rows": 10
       }
      },
      "text/html": [
       "<div>\n",
       "<style scoped>\n",
       "    .dataframe tbody tr th:only-of-type {\n",
       "        vertical-align: middle;\n",
       "    }\n",
       "\n",
       "    .dataframe tbody tr th {\n",
       "        vertical-align: top;\n",
       "    }\n",
       "\n",
       "    .dataframe thead th {\n",
       "        text-align: right;\n",
       "    }\n",
       "</style>\n",
       "<table border=\"1\" class=\"dataframe\">\n",
       "  <thead>\n",
       "    <tr style=\"text-align: right;\">\n",
       "      <th></th>\n",
       "      <th>user_id</th>\n",
       "      <th>gender</th>\n",
       "      <th>age</th>\n",
       "      <th>country</th>\n",
       "      <th>subscription_type</th>\n",
       "      <th>listening_time</th>\n",
       "      <th>songs_played_per_day</th>\n",
       "      <th>skip_rate</th>\n",
       "      <th>device_type</th>\n",
       "      <th>ads_listened_per_week</th>\n",
       "      <th>offline_listening</th>\n",
       "      <th>is_churned</th>\n",
       "    </tr>\n",
       "  </thead>\n",
       "  <tbody>\n",
       "    <tr>\n",
       "      <th>2148</th>\n",
       "      <td>2149</td>\n",
       "      <td>Male</td>\n",
       "      <td>48</td>\n",
       "      <td>FR</td>\n",
       "      <td>Free</td>\n",
       "      <td>30</td>\n",
       "      <td>82</td>\n",
       "      <td>0.11</td>\n",
       "      <td>Desktop</td>\n",
       "      <td>16</td>\n",
       "      <td>0</td>\n",
       "      <td>1</td>\n",
       "    </tr>\n",
       "    <tr>\n",
       "      <th>884</th>\n",
       "      <td>885</td>\n",
       "      <td>Male</td>\n",
       "      <td>22</td>\n",
       "      <td>IN</td>\n",
       "      <td>Family</td>\n",
       "      <td>140</td>\n",
       "      <td>52</td>\n",
       "      <td>0.36</td>\n",
       "      <td>Desktop</td>\n",
       "      <td>0</td>\n",
       "      <td>1</td>\n",
       "      <td>0</td>\n",
       "    </tr>\n",
       "    <tr>\n",
       "      <th>3469</th>\n",
       "      <td>3470</td>\n",
       "      <td>Other</td>\n",
       "      <td>34</td>\n",
       "      <td>IN</td>\n",
       "      <td>Student</td>\n",
       "      <td>187</td>\n",
       "      <td>65</td>\n",
       "      <td>0.25</td>\n",
       "      <td>Web</td>\n",
       "      <td>0</td>\n",
       "      <td>1</td>\n",
       "      <td>1</td>\n",
       "    </tr>\n",
       "    <tr>\n",
       "      <th>5056</th>\n",
       "      <td>5057</td>\n",
       "      <td>Female</td>\n",
       "      <td>17</td>\n",
       "      <td>DE</td>\n",
       "      <td>Free</td>\n",
       "      <td>125</td>\n",
       "      <td>18</td>\n",
       "      <td>0.35</td>\n",
       "      <td>Web</td>\n",
       "      <td>45</td>\n",
       "      <td>0</td>\n",
       "      <td>0</td>\n",
       "    </tr>\n",
       "    <tr>\n",
       "      <th>4767</th>\n",
       "      <td>4768</td>\n",
       "      <td>Other</td>\n",
       "      <td>16</td>\n",
       "      <td>DE</td>\n",
       "      <td>Family</td>\n",
       "      <td>110</td>\n",
       "      <td>24</td>\n",
       "      <td>0.45</td>\n",
       "      <td>Mobile</td>\n",
       "      <td>0</td>\n",
       "      <td>1</td>\n",
       "      <td>0</td>\n",
       "    </tr>\n",
       "    <tr>\n",
       "      <th>7339</th>\n",
       "      <td>7340</td>\n",
       "      <td>Male</td>\n",
       "      <td>26</td>\n",
       "      <td>AU</td>\n",
       "      <td>Premium</td>\n",
       "      <td>246</td>\n",
       "      <td>37</td>\n",
       "      <td>0.53</td>\n",
       "      <td>Mobile</td>\n",
       "      <td>0</td>\n",
       "      <td>1</td>\n",
       "      <td>0</td>\n",
       "    </tr>\n",
       "    <tr>\n",
       "      <th>704</th>\n",
       "      <td>705</td>\n",
       "      <td>Male</td>\n",
       "      <td>22</td>\n",
       "      <td>AU</td>\n",
       "      <td>Student</td>\n",
       "      <td>169</td>\n",
       "      <td>52</td>\n",
       "      <td>0.10</td>\n",
       "      <td>Mobile</td>\n",
       "      <td>0</td>\n",
       "      <td>1</td>\n",
       "      <td>1</td>\n",
       "    </tr>\n",
       "    <tr>\n",
       "      <th>595</th>\n",
       "      <td>596</td>\n",
       "      <td>Female</td>\n",
       "      <td>32</td>\n",
       "      <td>FR</td>\n",
       "      <td>Student</td>\n",
       "      <td>215</td>\n",
       "      <td>39</td>\n",
       "      <td>0.40</td>\n",
       "      <td>Desktop</td>\n",
       "      <td>0</td>\n",
       "      <td>1</td>\n",
       "      <td>0</td>\n",
       "    </tr>\n",
       "    <tr>\n",
       "      <th>5564</th>\n",
       "      <td>5565</td>\n",
       "      <td>Male</td>\n",
       "      <td>54</td>\n",
       "      <td>UK</td>\n",
       "      <td>Premium</td>\n",
       "      <td>144</td>\n",
       "      <td>49</td>\n",
       "      <td>0.27</td>\n",
       "      <td>Desktop</td>\n",
       "      <td>0</td>\n",
       "      <td>1</td>\n",
       "      <td>1</td>\n",
       "    </tr>\n",
       "    <tr>\n",
       "      <th>6254</th>\n",
       "      <td>6255</td>\n",
       "      <td>Other</td>\n",
       "      <td>57</td>\n",
       "      <td>US</td>\n",
       "      <td>Premium</td>\n",
       "      <td>33</td>\n",
       "      <td>48</td>\n",
       "      <td>0.48</td>\n",
       "      <td>Web</td>\n",
       "      <td>0</td>\n",
       "      <td>1</td>\n",
       "      <td>0</td>\n",
       "    </tr>\n",
       "  </tbody>\n",
       "</table>\n",
       "</div>"
      ],
      "text/plain": [
       "      user_id  gender  age country subscription_type  listening_time  \\\n",
       "2148     2149    Male   48      FR              Free              30   \n",
       "884       885    Male   22      IN            Family             140   \n",
       "3469     3470   Other   34      IN           Student             187   \n",
       "5056     5057  Female   17      DE              Free             125   \n",
       "4767     4768   Other   16      DE            Family             110   \n",
       "7339     7340    Male   26      AU           Premium             246   \n",
       "704       705    Male   22      AU           Student             169   \n",
       "595       596  Female   32      FR           Student             215   \n",
       "5564     5565    Male   54      UK           Premium             144   \n",
       "6254     6255   Other   57      US           Premium              33   \n",
       "\n",
       "      songs_played_per_day  skip_rate device_type  ads_listened_per_week  \\\n",
       "2148                    82       0.11     Desktop                     16   \n",
       "884                     52       0.36     Desktop                      0   \n",
       "3469                    65       0.25         Web                      0   \n",
       "5056                    18       0.35         Web                     45   \n",
       "4767                    24       0.45      Mobile                      0   \n",
       "7339                    37       0.53      Mobile                      0   \n",
       "704                     52       0.10      Mobile                      0   \n",
       "595                     39       0.40     Desktop                      0   \n",
       "5564                    49       0.27     Desktop                      0   \n",
       "6254                    48       0.48         Web                      0   \n",
       "\n",
       "      offline_listening  is_churned  \n",
       "2148                  0           1  \n",
       "884                   1           0  \n",
       "3469                  1           1  \n",
       "5056                  0           0  \n",
       "4767                  1           0  \n",
       "7339                  1           0  \n",
       "704                   1           1  \n",
       "595                   1           0  \n",
       "5564                  1           1  \n",
       "6254                  1           0  "
      ]
     },
     "execution_count": 9,
     "metadata": {},
     "output_type": "execute_result"
    }
   ],
   "source": [
    "spoti.sample(10)"
   ]
  },
  {
   "cell_type": "markdown",
   "id": "36b167b4",
   "metadata": {},
   "source": [
    "# AGE \n",
    "when we ask about the age \n",
    "--> mean , skew(), max age , minium age \n",
    "---> you can use plt.hist(df['Age']) with bin how many person are in same age \n",
    "hist with kde"
   ]
  },
  {
   "cell_type": "markdown",
   "id": "038e8e43",
   "metadata": {},
   "source": [
    "# mean of age \n",
    "\n",
    "here i used format specifer \n",
    "name = \"Alice\"\n",
    "age = 25\n",
    "print(f\"My name is {name} and I'm {age} years old\")\n",
    "# Output: My name is Alice and I'm 25 years old"
   ]
  },
  {
   "cell_type": "code",
   "execution_count": null,
   "id": "f66b62f6",
   "metadata": {},
   "outputs": [
    {
     "name": "stdout",
     "output_type": "stream",
     "text": [
      "Mean age : 37.66 years\n"
     ]
    }
   ],
   "source": [
    "age_mean = spoti['age'].mean() \n",
    "print(f\"Mean age : {age_mean:.2f} years\")"
   ]
  },
  {
   "cell_type": "markdown",
   "id": "ecb84711",
   "metadata": {},
   "source": [
    "# medain \n",
    "a. middle value of a sorted list of numbers\n",
    "Median = {(n+1)/2}th term"
   ]
  },
  {
   "cell_type": "code",
   "execution_count": null,
   "id": "520cf1a8",
   "metadata": {},
   "outputs": [
    {
     "name": "stdout",
     "output_type": "stream",
     "text": [
      "Medain age : 38.00 years\n"
     ]
    }
   ],
   "source": [
    "age_median = spoti['age'].median()\n",
    "print(f'Medain age : {age_median:.2f} years')"
   ]
  },
  {
   "cell_type": "markdown",
   "id": "a223c7eb",
   "metadata": {},
   "source": [
    "# Mode"
   ]
  },
  {
   "cell_type": "code",
   "execution_count": null,
   "id": "6f9538a7",
   "metadata": {},
   "outputs": [
    {
     "name": "stdout",
     "output_type": "stream",
     "text": [
      "0    51\n",
      "Name: age, dtype: int64\n"
     ]
    }
   ],
   "source": [
    "age_mode = spoti['age'].mode()\n",
    "print(age_mode)"
   ]
  },
  {
   "cell_type": "markdown",
   "id": "e8638029",
   "metadata": {},
   "source": [
    "* **Mean:** Average (sum of all values ÷ count)\n",
    "\n",
    "* **Median:** Middle value when sorted (50% above, 50% below)  \n",
    "\n",
    "* **Mode:** Most frequent value (appears most often)\n",
    "\n",
    "Example: [1, 2, 2, 5, 9]\n",
    "\n",
    "Mean: (1+2+2+5+9)/5 = 3.8\n",
    "\n",
    "Median: 2 (middle value)\n",
    "\n",
    "Mode: 2 (appears twice)"
   ]
  },
  {
   "cell_type": "markdown",
   "id": "bd59c7a9",
   "metadata": {},
   "source": [
    "# For Univariate Age Analysis:\n",
    "\n",
    "## Numerical Operations:\n",
    "\n",
    "|function | work    |\n",
    "|:----                  |   -----: |\n",
    "|spoti['age'].describe()| - Summary stats|\n",
    "|spoti['age'].mean()| - Average age|\n",
    "|spoti['age'].median()| - Middle value|\n",
    "|spoti['age'].mode() |- Most frequent age|\n",
    "|spoti['age'].std() |- Spread/variation|\n",
    "|spoti['age'].skew() |- Symmetry check|\n",
    "\n",
    "Visualizations:\n",
    "\n",
    "1. Histogram: sns.histplot(data=spoti, x='age')\n",
    "2. Box plot: sns.boxplot(data=spoti, y='age')\n",
    "3. KDE plot: sns.kdeplot(data=spoti, x='age')\n",
    "\n",
    "Basic checks:\n",
    "\n",
    "- [x] spoti['age'].isnull().sum() - Missing values\n",
    "\n",
    "- [x] spoti['age'].value_counts() - Frequency distribution"
   ]
  },
  {
   "cell_type": "markdown",
   "id": "deda5f88",
   "metadata": {},
   "source": [
    "# Frequency distribution\n",
    "    \n",
    "1.  __Show how much repeation of age here__ \n",
    "\n",
    "\n",
    "* here is my analysis   \n",
    " 51 -> 207 user maximum   \n",
    " 30 --> 190  least age user   \n",
    " 20--> 202 user least age  "
   ]
  },
  {
   "cell_type": "code",
   "execution_count": null,
   "id": "0c8b522c",
   "metadata": {},
   "outputs": [
    {
     "data": {
      "application/vnd.microsoft.datawrangler.viewer.v0+json": {
       "columns": [
        {
         "name": "age",
         "rawType": "int64",
         "type": "integer"
        },
        {
         "name": "count",
         "rawType": "int64",
         "type": "integer"
        }
       ],
       "ref": "0e3ef20d-c182-4e86-861c-991462d1fde1",
       "rows": [
        [
         "51",
         "207"
        ],
        [
         "37",
         "202"
        ],
        [
         "57",
         "202"
        ],
        [
         "20",
         "202"
        ],
        [
         "49",
         "200"
        ],
        [
         "22",
         "200"
        ],
        [
         "21",
         "199"
        ],
        [
         "42",
         "199"
        ],
        [
         "41",
         "196"
        ],
        [
         "30",
         "192"
        ],
        [
         "46",
         "192"
        ],
        [
         "47",
         "190"
        ],
        [
         "52",
         "190"
        ],
        [
         "48",
         "188"
        ],
        [
         "33",
         "186"
        ],
        [
         "18",
         "185"
        ],
        [
         "53",
         "185"
        ],
        [
         "59",
         "184"
        ],
        [
         "32",
         "184"
        ],
        [
         "50",
         "184"
        ],
        [
         "58",
         "183"
        ],
        [
         "34",
         "182"
        ],
        [
         "19",
         "181"
        ],
        [
         "35",
         "179"
        ],
        [
         "36",
         "177"
        ],
        [
         "17",
         "177"
        ],
        [
         "44",
         "176"
        ],
        [
         "24",
         "176"
        ],
        [
         "23",
         "175"
        ],
        [
         "55",
         "174"
        ],
        [
         "54",
         "173"
        ],
        [
         "39",
         "173"
        ],
        [
         "43",
         "173"
        ],
        [
         "31",
         "173"
        ],
        [
         "28",
         "173"
        ],
        [
         "26",
         "173"
        ],
        [
         "16",
         "172"
        ],
        [
         "38",
         "170"
        ],
        [
         "40",
         "170"
        ],
        [
         "56",
         "170"
        ],
        [
         "25",
         "168"
        ],
        [
         "45",
         "168"
        ],
        [
         "29",
         "151"
        ],
        [
         "27",
         "146"
        ]
       ],
       "shape": {
        "columns": 1,
        "rows": 44
       }
      },
      "text/plain": [
       "age\n",
       "51    207\n",
       "37    202\n",
       "57    202\n",
       "20    202\n",
       "49    200\n",
       "22    200\n",
       "21    199\n",
       "42    199\n",
       "41    196\n",
       "30    192\n",
       "46    192\n",
       "47    190\n",
       "52    190\n",
       "48    188\n",
       "33    186\n",
       "18    185\n",
       "53    185\n",
       "59    184\n",
       "32    184\n",
       "50    184\n",
       "58    183\n",
       "34    182\n",
       "19    181\n",
       "35    179\n",
       "36    177\n",
       "17    177\n",
       "44    176\n",
       "24    176\n",
       "23    175\n",
       "55    174\n",
       "54    173\n",
       "39    173\n",
       "43    173\n",
       "31    173\n",
       "28    173\n",
       "26    173\n",
       "16    172\n",
       "38    170\n",
       "40    170\n",
       "56    170\n",
       "25    168\n",
       "45    168\n",
       "29    151\n",
       "27    146\n",
       "Name: count, dtype: int64"
      ]
     },
     "execution_count": 14,
     "metadata": {},
     "output_type": "execute_result"
    }
   ],
   "source": [
    "spoti['age'].value_counts()"
   ]
  },
  {
   "cell_type": "markdown",
   "id": "224aa2d2",
   "metadata": {},
   "source": [
    "# .describe()\n",
    "a. it baiscally give you whole summary of data "
   ]
  },
  {
   "cell_type": "code",
   "execution_count": null,
   "id": "39670662",
   "metadata": {},
   "outputs": [
    {
     "data": {
      "application/vnd.microsoft.datawrangler.viewer.v0+json": {
       "columns": [
        {
         "name": "index",
         "rawType": "object",
         "type": "string"
        },
        {
         "name": "age",
         "rawType": "float64",
         "type": "float"
        }
       ],
       "ref": "a358e997-1705-4db3-ab4b-5fa4934d980b",
       "rows": [
        [
         "count",
         "8000.0"
        ],
        [
         "mean",
         "37.662125"
        ],
        [
         "std",
         "12.740359299437356"
        ],
        [
         "min",
         "16.0"
        ],
        [
         "25%",
         "26.0"
        ],
        [
         "50%",
         "38.0"
        ],
        [
         "75%",
         "49.0"
        ],
        [
         "max",
         "59.0"
        ]
       ],
       "shape": {
        "columns": 1,
        "rows": 8
       }
      },
      "text/plain": [
       "count    8000.000000\n",
       "mean       37.662125\n",
       "std        12.740359\n",
       "min        16.000000\n",
       "25%        26.000000\n",
       "50%        38.000000\n",
       "75%        49.000000\n",
       "max        59.000000\n",
       "Name: age, dtype: float64"
      ]
     },
     "execution_count": 25,
     "metadata": {},
     "output_type": "execute_result"
    }
   ],
   "source": [
    "sopti['age'].describe()"
   ]
  },
  {
   "cell_type": "markdown",
   "id": "535e4462",
   "metadata": {},
   "source": [
    "# Spread/variation\n",
    "--> ages differ from each other (age is our standard here )\n",
    "Example: Two groups, same mean (30 years)  \n",
    "\n",
    "Group A: [29, 30, 31] → Low spread (ages close together)  \n",
    "\n",
    "Group B: [10, 30, 50] → High spread (ages far apart)    \n",
    "\n",
    "sopti['age'].std() = 12.74 means:\n",
    "\n",
    "Average distance of ages from the mean\n",
    "\n",
    "Example: If mean age = 35 years, std = 12.74 means:\n",
    "\n",
    "About 68% of people are between: 35 ± 12.74 = 22.26 to 47.74 years\n",
    "\n",
    "About 95% of people are between: 35 ± (2×12.74) = 9.52 to 60.48 \n",
    "\n",
    "Age range:   10-----22.26▢████████35████████▢47.74-----70\n",
    "                          ±12.74    ±12.74"
   ]
  },
  {
   "cell_type": "code",
   "execution_count": 37,
   "id": "f64ea12e",
   "metadata": {},
   "outputs": [
    {
     "name": "stdout",
     "output_type": "stream",
     "text": [
      "12.740359299437356\n"
     ]
    }
   ],
   "source": [
    "spread = sopti['age'].std()\n",
    "print(spread)"
   ]
  },
  {
   "cell_type": "markdown",
   "id": "8ac1d656",
   "metadata": {},
   "source": [
    "# skew()\n",
    "\n",
    "Breakdown:\n",
    "\n",
    "Skew = 0: Perfect bell curve (mean = median = mode)\n",
    "\n",
    "Positive skew: Right tail longer → younger population\n",
    "\n",
    "Negative skew: Left tail longer → older population"
   ]
  },
  {
   "cell_type": "code",
   "execution_count": 39,
   "id": "a1d9f252",
   "metadata": {},
   "outputs": [
    {
     "name": "stdout",
     "output_type": "stream",
     "text": [
      "-0.027434739585673627\n"
     ]
    }
   ],
   "source": [
    "spoti_skew= sopti['age'].skew()\n",
    "print(spoti_skew)"
   ]
  },
  {
   "cell_type": "code",
   "execution_count": null,
   "id": "19f9832c",
   "metadata": {},
   "outputs": [],
   "source": []
  }
 ],
 "metadata": {
  "kernelspec": {
   "display_name": "base",
   "language": "python",
   "name": "python3"
  },
  "language_info": {
   "codemirror_mode": {
    "name": "ipython",
    "version": 3
   },
   "file_extension": ".py",
   "mimetype": "text/x-python",
   "name": "python",
   "nbconvert_exporter": "python",
   "pygments_lexer": "ipython3",
   "version": "3.13.5"
  }
 },
 "nbformat": 4,
 "nbformat_minor": 5
}
