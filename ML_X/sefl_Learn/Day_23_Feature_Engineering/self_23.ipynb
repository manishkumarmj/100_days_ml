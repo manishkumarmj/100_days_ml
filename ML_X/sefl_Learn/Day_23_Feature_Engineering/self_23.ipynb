{
 "cells": [
  {
   "cell_type": "markdown",
   "id": "9b4b8a0e",
   "metadata": {},
   "source": [
    "# Feature engineering\n",
    "** Domain knowledge to extract the features from the data. **  \n",
    "--> for improving the effiecncy of the model.\n",
    "![My Image](./FIG1.png)\n",
    "\n"
   ]
  },
  {
   "cell_type": "code",
   "execution_count": null,
   "id": "2889a98d",
   "metadata": {
    "vscode": {
     "languageId": "plaintext"
    }
   },
   "outputs": [],
   "source": []
  },
  {
   "cell_type": "markdown",
   "id": "a61b8ec2",
   "metadata": {},
   "source": []
  }
 ],
 "metadata": {
  "language_info": {
   "name": "python"
  }
 },
 "nbformat": 4,
 "nbformat_minor": 5
}
