{
 "cells": [
  {
   "cell_type": "markdown",
   "id": "9b4b8a0e",
   "metadata": {},
   "source": [
    "# Feature engineering\n",
    "** Domain knowledge to extract the features from the data. **  \n",
    "--> for improving the effiecncy of the model.  \n",
    "\n",
    "<img src=\"./FIG1.png\" alt=\"My Image\" style=\"width:auto ; height:600px;\">\n",
    "\n"
   ]
  },
  {
   "cell_type": "markdown",
   "id": "a729779c",
   "metadata": {},
   "source": [
    "# flowchart\n",
    "\n",
    "<img src=\"./Flowchart.png\" alt=\"My Image\" style=\"width: 800px; height: auto;\">\n"
   ]
  },
  {
   "cell_type": "markdown",
   "id": "f42eb58f",
   "metadata": {},
   "source": [
    "# Fetature engineering\n",
    "  "
   ]
  },
  {
   "cell_type": "code",
   "execution_count": null,
   "id": "2889a98d",
   "metadata": {
    "vscode": {
     "languageId": "plaintext"
    }
   },
   "outputs": [],
   "source": []
  },
  {
   "cell_type": "markdown",
   "id": "a61b8ec2",
   "metadata": {},
   "source": []
  }
 ],
 "metadata": {
  "language_info": {
   "name": "python"
  }
 },
 "nbformat": 4,
 "nbformat_minor": 5
}
