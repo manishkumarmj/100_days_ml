{
 "cells": [
  {
   "cell_type": "markdown",
   "id": "a0987622",
   "metadata": {},
   "source": [
    "# self analysis"
   ]
  }
 ],
 "metadata": {
  "language_info": {
   "name": "python"
  }
 },
 "nbformat": 4,
 "nbformat_minor": 5
}
