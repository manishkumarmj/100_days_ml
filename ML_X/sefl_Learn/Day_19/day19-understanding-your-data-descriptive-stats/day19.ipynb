{
 "cells": [
  {
   "cell_type": "code",
   "execution_count": 1,
   "metadata": {},
   "outputs": [],
   "source": [
    "import pandas as pd"
   ]
  },
  {
   "cell_type": "code",
   "execution_count": 2,
   "metadata": {},
   "outputs": [],
   "source": [
    "df = pd.read_csv('train.csv')"
   ]
  },
  {
   "cell_type": "markdown",
   "metadata": {},
   "source": [
    "# 1. How big is the data?"
   ]
  },
  {
   "cell_type": "code",
   "execution_count": 3,
   "metadata": {},
   "outputs": [
    {
     "data": {
      "text/plain": [
       "(890, 12)"
      ]
     },
     "execution_count": 3,
     "metadata": {},
     "output_type": "execute_result"
    }
   ],
   "source": [
    "df.shape"
   ]
  },
  {
   "cell_type": "markdown",
   "metadata": {},
   "source": [
    "# 2. How does the data look like?\n",
    "Note sometime your system might Crashed and due to this we \n",
    "preffer head() or sample \n",
    "1. but preffer sample because sometime your data get baised ( some nearby value look a like )\n",
    "_> so the sample that why\n",
    "\n",
    "\n"
   ]
  },
  {
   "cell_type": "code",
   "execution_count": 4,
   "metadata": {},
   "outputs": [
    {
     "data": {
      "application/vnd.microsoft.datawrangler.viewer.v0+json": {
       "columns": [
        {
         "name": "index",
         "rawType": "int64",
         "type": "integer"
        },
        {
         "name": "PassengerId",
         "rawType": "int64",
         "type": "integer"
        },
        {
         "name": "Survived",
         "rawType": "int64",
         "type": "integer"
        },
        {
         "name": "Pclass",
         "rawType": "int64",
         "type": "integer"
        },
        {
         "name": "Name",
         "rawType": "object",
         "type": "string"
        },
        {
         "name": "Sex",
         "rawType": "object",
         "type": "string"
        },
        {
         "name": "Age",
         "rawType": "float64",
         "type": "float"
        },
        {
         "name": "SibSp",
         "rawType": "int64",
         "type": "integer"
        },
        {
         "name": "Parch",
         "rawType": "int64",
         "type": "integer"
        },
        {
         "name": "Ticket",
         "rawType": "object",
         "type": "string"
        },
        {
         "name": "Fare",
         "rawType": "float64",
         "type": "float"
        },
        {
         "name": "Cabin",
         "rawType": "object",
         "type": "unknown"
        },
        {
         "name": "Embarked",
         "rawType": "object",
         "type": "string"
        }
       ],
       "ref": "7961319b-d466-40d2-854a-d7be25c70dcd",
       "rows": [
        [
         "0",
         "2",
         "1",
         "1",
         "Cumings, Mrs. John Bradley (Florence Briggs Thayer)",
         "female",
         "38.0",
         "1",
         "0",
         "PC 17599",
         "71.2833",
         "C85",
         "C"
        ],
        [
         "1",
         "3",
         "1",
         "3",
         "Heikkinen, Miss. Laina",
         "female",
         "26.0",
         "0",
         "0",
         "STON/O2. 3101282",
         "7.925",
         null,
         "S"
        ],
        [
         "2",
         "4",
         "1",
         "1",
         "Futrelle, Mrs. Jacques Heath (Lily May Peel)",
         "female",
         "35.0",
         "1",
         "0",
         "113803",
         "53.1",
         "C123",
         "S"
        ],
        [
         "3",
         "5",
         "0",
         "3",
         "Allen, Mr. William Henry",
         "male",
         "35.0",
         "0",
         "0",
         "373450",
         "8.05",
         null,
         "S"
        ],
        [
         "4",
         "6",
         "0",
         "3",
         "Moran, Mr. James",
         "male",
         null,
         "0",
         "0",
         "330877",
         "8.4583",
         null,
         "Q"
        ]
       ],
       "shape": {
        "columns": 12,
        "rows": 5
       }
      },
      "text/html": [
       "<div>\n",
       "<style scoped>\n",
       "    .dataframe tbody tr th:only-of-type {\n",
       "        vertical-align: middle;\n",
       "    }\n",
       "\n",
       "    .dataframe tbody tr th {\n",
       "        vertical-align: top;\n",
       "    }\n",
       "\n",
       "    .dataframe thead th {\n",
       "        text-align: right;\n",
       "    }\n",
       "</style>\n",
       "<table border=\"1\" class=\"dataframe\">\n",
       "  <thead>\n",
       "    <tr style=\"text-align: right;\">\n",
       "      <th></th>\n",
       "      <th>PassengerId</th>\n",
       "      <th>Survived</th>\n",
       "      <th>Pclass</th>\n",
       "      <th>Name</th>\n",
       "      <th>Sex</th>\n",
       "      <th>Age</th>\n",
       "      <th>SibSp</th>\n",
       "      <th>Parch</th>\n",
       "      <th>Ticket</th>\n",
       "      <th>Fare</th>\n",
       "      <th>Cabin</th>\n",
       "      <th>Embarked</th>\n",
       "    </tr>\n",
       "  </thead>\n",
       "  <tbody>\n",
       "    <tr>\n",
       "      <th>0</th>\n",
       "      <td>2</td>\n",
       "      <td>1</td>\n",
       "      <td>1</td>\n",
       "      <td>Cumings, Mrs. John Bradley (Florence Briggs Th...</td>\n",
       "      <td>female</td>\n",
       "      <td>38.0</td>\n",
       "      <td>1</td>\n",
       "      <td>0</td>\n",
       "      <td>PC 17599</td>\n",
       "      <td>71.2833</td>\n",
       "      <td>C85</td>\n",
       "      <td>C</td>\n",
       "    </tr>\n",
       "    <tr>\n",
       "      <th>1</th>\n",
       "      <td>3</td>\n",
       "      <td>1</td>\n",
       "      <td>3</td>\n",
       "      <td>Heikkinen, Miss. Laina</td>\n",
       "      <td>female</td>\n",
       "      <td>26.0</td>\n",
       "      <td>0</td>\n",
       "      <td>0</td>\n",
       "      <td>STON/O2. 3101282</td>\n",
       "      <td>7.9250</td>\n",
       "      <td>NaN</td>\n",
       "      <td>S</td>\n",
       "    </tr>\n",
       "    <tr>\n",
       "      <th>2</th>\n",
       "      <td>4</td>\n",
       "      <td>1</td>\n",
       "      <td>1</td>\n",
       "      <td>Futrelle, Mrs. Jacques Heath (Lily May Peel)</td>\n",
       "      <td>female</td>\n",
       "      <td>35.0</td>\n",
       "      <td>1</td>\n",
       "      <td>0</td>\n",
       "      <td>113803</td>\n",
       "      <td>53.1000</td>\n",
       "      <td>C123</td>\n",
       "      <td>S</td>\n",
       "    </tr>\n",
       "    <tr>\n",
       "      <th>3</th>\n",
       "      <td>5</td>\n",
       "      <td>0</td>\n",
       "      <td>3</td>\n",
       "      <td>Allen, Mr. William Henry</td>\n",
       "      <td>male</td>\n",
       "      <td>35.0</td>\n",
       "      <td>0</td>\n",
       "      <td>0</td>\n",
       "      <td>373450</td>\n",
       "      <td>8.0500</td>\n",
       "      <td>NaN</td>\n",
       "      <td>S</td>\n",
       "    </tr>\n",
       "    <tr>\n",
       "      <th>4</th>\n",
       "      <td>6</td>\n",
       "      <td>0</td>\n",
       "      <td>3</td>\n",
       "      <td>Moran, Mr. James</td>\n",
       "      <td>male</td>\n",
       "      <td>NaN</td>\n",
       "      <td>0</td>\n",
       "      <td>0</td>\n",
       "      <td>330877</td>\n",
       "      <td>8.4583</td>\n",
       "      <td>NaN</td>\n",
       "      <td>Q</td>\n",
       "    </tr>\n",
       "  </tbody>\n",
       "</table>\n",
       "</div>"
      ],
      "text/plain": [
       "   PassengerId  Survived  Pclass  \\\n",
       "0            2         1       1   \n",
       "1            3         1       3   \n",
       "2            4         1       1   \n",
       "3            5         0       3   \n",
       "4            6         0       3   \n",
       "\n",
       "                                                Name     Sex   Age  SibSp  \\\n",
       "0  Cumings, Mrs. John Bradley (Florence Briggs Th...  female  38.0      1   \n",
       "1                             Heikkinen, Miss. Laina  female  26.0      0   \n",
       "2       Futrelle, Mrs. Jacques Heath (Lily May Peel)  female  35.0      1   \n",
       "3                           Allen, Mr. William Henry    male  35.0      0   \n",
       "4                                   Moran, Mr. James    male   NaN      0   \n",
       "\n",
       "   Parch            Ticket     Fare Cabin Embarked  \n",
       "0      0          PC 17599  71.2833   C85        C  \n",
       "1      0  STON/O2. 3101282   7.9250   NaN        S  \n",
       "2      0            113803  53.1000  C123        S  \n",
       "3      0            373450   8.0500   NaN        S  \n",
       "4      0            330877   8.4583   NaN        Q  "
      ]
     },
     "execution_count": 4,
     "metadata": {},
     "output_type": "execute_result"
    }
   ],
   "source": [
    "df.head()"
   ]
  },
  {
   "cell_type": "code",
   "execution_count": 5,
   "metadata": {},
   "outputs": [
    {
     "data": {
      "application/vnd.microsoft.datawrangler.viewer.v0+json": {
       "columns": [
        {
         "name": "index",
         "rawType": "int64",
         "type": "integer"
        },
        {
         "name": "PassengerId",
         "rawType": "int64",
         "type": "integer"
        },
        {
         "name": "Survived",
         "rawType": "int64",
         "type": "integer"
        },
        {
         "name": "Pclass",
         "rawType": "int64",
         "type": "integer"
        },
        {
         "name": "Name",
         "rawType": "object",
         "type": "string"
        },
        {
         "name": "Sex",
         "rawType": "object",
         "type": "string"
        },
        {
         "name": "Age",
         "rawType": "float64",
         "type": "float"
        },
        {
         "name": "SibSp",
         "rawType": "int64",
         "type": "integer"
        },
        {
         "name": "Parch",
         "rawType": "int64",
         "type": "integer"
        },
        {
         "name": "Ticket",
         "rawType": "object",
         "type": "string"
        },
        {
         "name": "Fare",
         "rawType": "float64",
         "type": "float"
        },
        {
         "name": "Cabin",
         "rawType": "object",
         "type": "unknown"
        },
        {
         "name": "Embarked",
         "rawType": "object",
         "type": "string"
        }
       ],
       "ref": "b9e85726-c76d-4750-848f-346d73f82e7b",
       "rows": [
        [
         "775",
         "777",
         "0",
         "3",
         "Tobin, Mr. Roger",
         "male",
         null,
         "0",
         "0",
         "383121",
         "7.75",
         "F38",
         "Q"
        ],
        [
         "667",
         "669",
         "0",
         "3",
         "Cook, Mr. Jacob",
         "male",
         "43.0",
         "0",
         "0",
         "A/5 3536",
         "8.05",
         null,
         "S"
        ],
        [
         "2",
         "4",
         "1",
         "1",
         "Futrelle, Mrs. Jacques Heath (Lily May Peel)",
         "female",
         "35.0",
         "1",
         "0",
         "113803",
         "53.1",
         "C123",
         "S"
        ],
        [
         "109",
         "111",
         "0",
         "1",
         "Porter, Mr. Walter Chamberlain",
         "male",
         "47.0",
         "0",
         "0",
         "110465",
         "52.0",
         "C110",
         "S"
        ],
        [
         "66",
         "68",
         "0",
         "3",
         "Crease, Mr. Ernest James",
         "male",
         "19.0",
         "0",
         "0",
         "S.P. 3464",
         "8.1583",
         null,
         "S"
        ]
       ],
       "shape": {
        "columns": 12,
        "rows": 5
       }
      },
      "text/html": [
       "<div>\n",
       "<style scoped>\n",
       "    .dataframe tbody tr th:only-of-type {\n",
       "        vertical-align: middle;\n",
       "    }\n",
       "\n",
       "    .dataframe tbody tr th {\n",
       "        vertical-align: top;\n",
       "    }\n",
       "\n",
       "    .dataframe thead th {\n",
       "        text-align: right;\n",
       "    }\n",
       "</style>\n",
       "<table border=\"1\" class=\"dataframe\">\n",
       "  <thead>\n",
       "    <tr style=\"text-align: right;\">\n",
       "      <th></th>\n",
       "      <th>PassengerId</th>\n",
       "      <th>Survived</th>\n",
       "      <th>Pclass</th>\n",
       "      <th>Name</th>\n",
       "      <th>Sex</th>\n",
       "      <th>Age</th>\n",
       "      <th>SibSp</th>\n",
       "      <th>Parch</th>\n",
       "      <th>Ticket</th>\n",
       "      <th>Fare</th>\n",
       "      <th>Cabin</th>\n",
       "      <th>Embarked</th>\n",
       "    </tr>\n",
       "  </thead>\n",
       "  <tbody>\n",
       "    <tr>\n",
       "      <th>775</th>\n",
       "      <td>777</td>\n",
       "      <td>0</td>\n",
       "      <td>3</td>\n",
       "      <td>Tobin, Mr. Roger</td>\n",
       "      <td>male</td>\n",
       "      <td>NaN</td>\n",
       "      <td>0</td>\n",
       "      <td>0</td>\n",
       "      <td>383121</td>\n",
       "      <td>7.7500</td>\n",
       "      <td>F38</td>\n",
       "      <td>Q</td>\n",
       "    </tr>\n",
       "    <tr>\n",
       "      <th>667</th>\n",
       "      <td>669</td>\n",
       "      <td>0</td>\n",
       "      <td>3</td>\n",
       "      <td>Cook, Mr. Jacob</td>\n",
       "      <td>male</td>\n",
       "      <td>43.0</td>\n",
       "      <td>0</td>\n",
       "      <td>0</td>\n",
       "      <td>A/5 3536</td>\n",
       "      <td>8.0500</td>\n",
       "      <td>NaN</td>\n",
       "      <td>S</td>\n",
       "    </tr>\n",
       "    <tr>\n",
       "      <th>2</th>\n",
       "      <td>4</td>\n",
       "      <td>1</td>\n",
       "      <td>1</td>\n",
       "      <td>Futrelle, Mrs. Jacques Heath (Lily May Peel)</td>\n",
       "      <td>female</td>\n",
       "      <td>35.0</td>\n",
       "      <td>1</td>\n",
       "      <td>0</td>\n",
       "      <td>113803</td>\n",
       "      <td>53.1000</td>\n",
       "      <td>C123</td>\n",
       "      <td>S</td>\n",
       "    </tr>\n",
       "    <tr>\n",
       "      <th>109</th>\n",
       "      <td>111</td>\n",
       "      <td>0</td>\n",
       "      <td>1</td>\n",
       "      <td>Porter, Mr. Walter Chamberlain</td>\n",
       "      <td>male</td>\n",
       "      <td>47.0</td>\n",
       "      <td>0</td>\n",
       "      <td>0</td>\n",
       "      <td>110465</td>\n",
       "      <td>52.0000</td>\n",
       "      <td>C110</td>\n",
       "      <td>S</td>\n",
       "    </tr>\n",
       "    <tr>\n",
       "      <th>66</th>\n",
       "      <td>68</td>\n",
       "      <td>0</td>\n",
       "      <td>3</td>\n",
       "      <td>Crease, Mr. Ernest James</td>\n",
       "      <td>male</td>\n",
       "      <td>19.0</td>\n",
       "      <td>0</td>\n",
       "      <td>0</td>\n",
       "      <td>S.P. 3464</td>\n",
       "      <td>8.1583</td>\n",
       "      <td>NaN</td>\n",
       "      <td>S</td>\n",
       "    </tr>\n",
       "  </tbody>\n",
       "</table>\n",
       "</div>"
      ],
      "text/plain": [
       "     PassengerId  Survived  Pclass  \\\n",
       "775          777         0       3   \n",
       "667          669         0       3   \n",
       "2              4         1       1   \n",
       "109          111         0       1   \n",
       "66            68         0       3   \n",
       "\n",
       "                                             Name     Sex   Age  SibSp  Parch  \\\n",
       "775                              Tobin, Mr. Roger    male   NaN      0      0   \n",
       "667                               Cook, Mr. Jacob    male  43.0      0      0   \n",
       "2    Futrelle, Mrs. Jacques Heath (Lily May Peel)  female  35.0      1      0   \n",
       "109                Porter, Mr. Walter Chamberlain    male  47.0      0      0   \n",
       "66                       Crease, Mr. Ernest James    male  19.0      0      0   \n",
       "\n",
       "        Ticket     Fare Cabin Embarked  \n",
       "775     383121   7.7500   F38        Q  \n",
       "667   A/5 3536   8.0500   NaN        S  \n",
       "2       113803  53.1000  C123        S  \n",
       "109     110465  52.0000  C110        S  \n",
       "66   S.P. 3464   8.1583   NaN        S  "
      ]
     },
     "execution_count": 5,
     "metadata": {},
     "output_type": "execute_result"
    }
   ],
   "source": [
    "df.sample(5) "
   ]
  },
  {
   "cell_type": "markdown",
   "metadata": {},
   "source": [
    "# 3. What is the data type of cols?\n",
    "a. this is check which type of data type it is.  \n",
    "b. somethime there are some type data whcih are not needed that much of sapce but still baked in that type of data \n"
   ]
  },
  {
   "cell_type": "code",
   "execution_count": 6,
   "metadata": {},
   "outputs": [
    {
     "name": "stdout",
     "output_type": "stream",
     "text": [
      "<class 'pandas.core.frame.DataFrame'>\n",
      "RangeIndex: 890 entries, 0 to 889\n",
      "Data columns (total 12 columns):\n",
      " #   Column       Non-Null Count  Dtype  \n",
      "---  ------       --------------  -----  \n",
      " 0   PassengerId  890 non-null    int64  \n",
      " 1   Survived     890 non-null    int64  \n",
      " 2   Pclass       890 non-null    int64  \n",
      " 3   Name         890 non-null    object \n",
      " 4   Sex          890 non-null    object \n",
      " 5   Age          713 non-null    float64\n",
      " 6   SibSp        890 non-null    int64  \n",
      " 7   Parch        890 non-null    int64  \n",
      " 8   Ticket       890 non-null    object \n",
      " 9   Fare         890 non-null    float64\n",
      " 10  Cabin        204 non-null    object \n",
      " 11  Embarked     888 non-null    object \n",
      "dtypes: float64(2), int64(5), object(5)\n",
      "memory usage: 83.6+ KB\n"
     ]
    }
   ],
   "source": [
    "df.info()"
   ]
  },
  {
   "cell_type": "markdown",
   "metadata": {},
   "source": [
    "# 4. Are there any missing values?"
   ]
  },
  {
   "cell_type": "code",
   "execution_count": 7,
   "metadata": {},
   "outputs": [
    {
     "data": {
      "application/vnd.microsoft.datawrangler.viewer.v0+json": {
       "columns": [
        {
         "name": "index",
         "rawType": "object",
         "type": "string"
        },
        {
         "name": "0",
         "rawType": "int64",
         "type": "integer"
        }
       ],
       "ref": "26d8aa2b-d801-4fcd-8542-55736bc211a0",
       "rows": [
        [
         "PassengerId",
         "0"
        ],
        [
         "Survived",
         "0"
        ],
        [
         "Pclass",
         "0"
        ],
        [
         "Name",
         "0"
        ],
        [
         "Sex",
         "0"
        ],
        [
         "Age",
         "177"
        ],
        [
         "SibSp",
         "0"
        ],
        [
         "Parch",
         "0"
        ],
        [
         "Ticket",
         "0"
        ],
        [
         "Fare",
         "0"
        ],
        [
         "Cabin",
         "686"
        ],
        [
         "Embarked",
         "2"
        ]
       ],
       "shape": {
        "columns": 1,
        "rows": 12
       }
      },
      "text/plain": [
       "PassengerId      0\n",
       "Survived         0\n",
       "Pclass           0\n",
       "Name             0\n",
       "Sex              0\n",
       "Age            177\n",
       "SibSp            0\n",
       "Parch            0\n",
       "Ticket           0\n",
       "Fare             0\n",
       "Cabin          686\n",
       "Embarked         2\n",
       "dtype: int64"
      ]
     },
     "execution_count": 7,
     "metadata": {},
     "output_type": "execute_result"
    }
   ],
   "source": [
    "df.isnull().sum()"
   ]
  },
  {
   "cell_type": "markdown",
   "metadata": {},
   "source": [
    "# 5. How does the data look mathematically?\n",
    "this give you insite of the data \n",
    "1.count \n",
    "2.mean\n",
    "3. starndrad devation kitna hia .4.5."
   ]
  },
  {
   "cell_type": "code",
   "execution_count": 8,
   "metadata": {},
   "outputs": [
    {
     "data": {
      "application/vnd.microsoft.datawrangler.viewer.v0+json": {
       "columns": [
        {
         "name": "index",
         "rawType": "object",
         "type": "string"
        },
        {
         "name": "PassengerId",
         "rawType": "float64",
         "type": "float"
        },
        {
         "name": "Survived",
         "rawType": "float64",
         "type": "float"
        },
        {
         "name": "Pclass",
         "rawType": "float64",
         "type": "float"
        },
        {
         "name": "Age",
         "rawType": "float64",
         "type": "float"
        },
        {
         "name": "SibSp",
         "rawType": "float64",
         "type": "float"
        },
        {
         "name": "Parch",
         "rawType": "float64",
         "type": "float"
        },
        {
         "name": "Fare",
         "rawType": "float64",
         "type": "float"
        }
       ],
       "ref": "fab016c3-6491-4d82-a5a4-4df994edae08",
       "rows": [
        [
         "count",
         "890.0",
         "890.0",
         "890.0",
         "713.0",
         "890.0",
         "890.0",
         "890.0"
        ],
        [
         "mean",
         "446.5",
         "0.3842696629213483",
         "2.3078651685393257",
         "29.70991584852735",
         "0.5224719101123596",
         "0.38202247191011235",
         "32.232246404494376"
        ],
        [
         "std",
         "257.0651668351821",
         "0.4866956319007286",
         "0.8362195608233028",
         "14.533827086084026",
         "1.1032473601510489",
         "0.8064087782289334",
         "49.7143174944197"
        ],
        [
         "min",
         "2.0",
         "0.0",
         "1.0",
         "0.42",
         "0.0",
         "0.0",
         "0.0"
        ],
        [
         "25%",
         "224.25",
         "0.0",
         "2.0",
         "20.0",
         "0.0",
         "0.0",
         "7.925"
        ],
        [
         "50%",
         "446.5",
         "0.0",
         "3.0",
         "28.0",
         "0.0",
         "0.0",
         "14.4542"
        ],
        [
         "75%",
         "668.75",
         "1.0",
         "3.0",
         "38.0",
         "1.0",
         "0.0",
         "31.0"
        ],
        [
         "max",
         "891.0",
         "1.0",
         "3.0",
         "80.0",
         "8.0",
         "6.0",
         "512.3292"
        ]
       ],
       "shape": {
        "columns": 7,
        "rows": 8
       }
      },
      "text/html": [
       "<div>\n",
       "<style scoped>\n",
       "    .dataframe tbody tr th:only-of-type {\n",
       "        vertical-align: middle;\n",
       "    }\n",
       "\n",
       "    .dataframe tbody tr th {\n",
       "        vertical-align: top;\n",
       "    }\n",
       "\n",
       "    .dataframe thead th {\n",
       "        text-align: right;\n",
       "    }\n",
       "</style>\n",
       "<table border=\"1\" class=\"dataframe\">\n",
       "  <thead>\n",
       "    <tr style=\"text-align: right;\">\n",
       "      <th></th>\n",
       "      <th>PassengerId</th>\n",
       "      <th>Survived</th>\n",
       "      <th>Pclass</th>\n",
       "      <th>Age</th>\n",
       "      <th>SibSp</th>\n",
       "      <th>Parch</th>\n",
       "      <th>Fare</th>\n",
       "    </tr>\n",
       "  </thead>\n",
       "  <tbody>\n",
       "    <tr>\n",
       "      <th>count</th>\n",
       "      <td>890.000000</td>\n",
       "      <td>890.000000</td>\n",
       "      <td>890.000000</td>\n",
       "      <td>713.000000</td>\n",
       "      <td>890.000000</td>\n",
       "      <td>890.000000</td>\n",
       "      <td>890.000000</td>\n",
       "    </tr>\n",
       "    <tr>\n",
       "      <th>mean</th>\n",
       "      <td>446.500000</td>\n",
       "      <td>0.384270</td>\n",
       "      <td>2.307865</td>\n",
       "      <td>29.709916</td>\n",
       "      <td>0.522472</td>\n",
       "      <td>0.382022</td>\n",
       "      <td>32.232246</td>\n",
       "    </tr>\n",
       "    <tr>\n",
       "      <th>std</th>\n",
       "      <td>257.065167</td>\n",
       "      <td>0.486696</td>\n",
       "      <td>0.836220</td>\n",
       "      <td>14.533827</td>\n",
       "      <td>1.103247</td>\n",
       "      <td>0.806409</td>\n",
       "      <td>49.714317</td>\n",
       "    </tr>\n",
       "    <tr>\n",
       "      <th>min</th>\n",
       "      <td>2.000000</td>\n",
       "      <td>0.000000</td>\n",
       "      <td>1.000000</td>\n",
       "      <td>0.420000</td>\n",
       "      <td>0.000000</td>\n",
       "      <td>0.000000</td>\n",
       "      <td>0.000000</td>\n",
       "    </tr>\n",
       "    <tr>\n",
       "      <th>25%</th>\n",
       "      <td>224.250000</td>\n",
       "      <td>0.000000</td>\n",
       "      <td>2.000000</td>\n",
       "      <td>20.000000</td>\n",
       "      <td>0.000000</td>\n",
       "      <td>0.000000</td>\n",
       "      <td>7.925000</td>\n",
       "    </tr>\n",
       "    <tr>\n",
       "      <th>50%</th>\n",
       "      <td>446.500000</td>\n",
       "      <td>0.000000</td>\n",
       "      <td>3.000000</td>\n",
       "      <td>28.000000</td>\n",
       "      <td>0.000000</td>\n",
       "      <td>0.000000</td>\n",
       "      <td>14.454200</td>\n",
       "    </tr>\n",
       "    <tr>\n",
       "      <th>75%</th>\n",
       "      <td>668.750000</td>\n",
       "      <td>1.000000</td>\n",
       "      <td>3.000000</td>\n",
       "      <td>38.000000</td>\n",
       "      <td>1.000000</td>\n",
       "      <td>0.000000</td>\n",
       "      <td>31.000000</td>\n",
       "    </tr>\n",
       "    <tr>\n",
       "      <th>max</th>\n",
       "      <td>891.000000</td>\n",
       "      <td>1.000000</td>\n",
       "      <td>3.000000</td>\n",
       "      <td>80.000000</td>\n",
       "      <td>8.000000</td>\n",
       "      <td>6.000000</td>\n",
       "      <td>512.329200</td>\n",
       "    </tr>\n",
       "  </tbody>\n",
       "</table>\n",
       "</div>"
      ],
      "text/plain": [
       "       PassengerId    Survived      Pclass         Age       SibSp  \\\n",
       "count   890.000000  890.000000  890.000000  713.000000  890.000000   \n",
       "mean    446.500000    0.384270    2.307865   29.709916    0.522472   \n",
       "std     257.065167    0.486696    0.836220   14.533827    1.103247   \n",
       "min       2.000000    0.000000    1.000000    0.420000    0.000000   \n",
       "25%     224.250000    0.000000    2.000000   20.000000    0.000000   \n",
       "50%     446.500000    0.000000    3.000000   28.000000    0.000000   \n",
       "75%     668.750000    1.000000    3.000000   38.000000    1.000000   \n",
       "max     891.000000    1.000000    3.000000   80.000000    8.000000   \n",
       "\n",
       "            Parch        Fare  \n",
       "count  890.000000  890.000000  \n",
       "mean     0.382022   32.232246  \n",
       "std      0.806409   49.714317  \n",
       "min      0.000000    0.000000  \n",
       "25%      0.000000    7.925000  \n",
       "50%      0.000000   14.454200  \n",
       "75%      0.000000   31.000000  \n",
       "max      6.000000  512.329200  "
      ]
     },
     "execution_count": 8,
     "metadata": {},
     "output_type": "execute_result"
    }
   ],
   "source": [
    "df.describe()"
   ]
  },
  {
   "cell_type": "markdown",
   "metadata": {},
   "source": [
    "# 6. Are there duplicate values?"
   ]
  },
  {
   "cell_type": "code",
   "execution_count": 9,
   "metadata": {},
   "outputs": [
    {
     "data": {
      "text/plain": [
       "np.int64(0)"
      ]
     },
     "execution_count": 9,
     "metadata": {},
     "output_type": "execute_result"
    }
   ],
   "source": [
    "df.duplicated().sum()"
   ]
  },
  {
   "cell_type": "markdown",
   "metadata": {},
   "source": [
    "# 7. How is the correlation between cols?"
   ]
  },
  {
   "cell_type": "code",
   "execution_count": 11,
   "metadata": {},
   "outputs": [
    {
     "name": "stdout",
     "output_type": "stream",
     "text": [
      "PassengerId   -0.006554\n",
      "Survived       1.000000\n",
      "Pclass        -0.337996\n",
      "Age           -0.077889\n",
      "SibSp         -0.034955\n",
      "Parch          0.081248\n",
      "Fare           0.256987\n",
      "Name: Survived, dtype: float64\n"
     ]
    }
   ],
   "source": [
    "# Select only numerical columns\n",
    "numerical_df = df.select_dtypes(include=['int64', 'float64'])\n",
    "correlation = numerical_df.corr()['Survived']\n",
    "print(correlation)"
   ]
  },
  {
   "cell_type": "code",
   "execution_count": null,
   "metadata": {},
   "outputs": [],
   "source": []
  }
 ],
 "metadata": {
  "kernelspec": {
   "display_name": "base",
   "language": "python",
   "name": "python3"
  },
  "language_info": {
   "codemirror_mode": {
    "name": "ipython",
    "version": 3
   },
   "file_extension": ".py",
   "mimetype": "text/x-python",
   "name": "python",
   "nbconvert_exporter": "python",
   "pygments_lexer": "ipython3",
   "version": "3.13.5"
  }
 },
 "nbformat": 4,
 "nbformat_minor": 4
}
