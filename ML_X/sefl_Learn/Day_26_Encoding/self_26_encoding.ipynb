{
 "cells": [
  {
   "cell_type": "code",
   "execution_count": 1,
   "id": "814bf6cc",
   "metadata": {},
   "outputs": [],
   "source": [
    "import numpy as np\n",
    "import pandas as pd"
   ]
  },
  {
   "cell_type": "code",
   "execution_count": 2,
   "id": "625c3007",
   "metadata": {},
   "outputs": [],
   "source": [
    "df = pd.read_csv('customer.csv')"
   ]
  },
  {
   "cell_type": "code",
   "execution_count": 4,
   "id": "5e141d96",
   "metadata": {},
   "outputs": [
    {
     "data": {
      "application/vnd.microsoft.datawrangler.viewer.v0+json": {
       "columns": [
        {
         "name": "index",
         "rawType": "int64",
         "type": "integer"
        },
        {
         "name": "age",
         "rawType": "int64",
         "type": "integer"
        },
        {
         "name": "gender",
         "rawType": "object",
         "type": "string"
        },
        {
         "name": "review",
         "rawType": "object",
         "type": "string"
        },
        {
         "name": "education",
         "rawType": "object",
         "type": "string"
        },
        {
         "name": "purchased",
         "rawType": "object",
         "type": "string"
        }
       ],
       "ref": "522f7970-fbb8-472f-847d-ebfe365451a8",
       "rows": [
        [
         "1",
         "68",
         "Female",
         "Poor",
         "UG",
         "No"
        ],
        [
         "33",
         "89",
         "Female",
         "Good",
         "PG",
         "Yes"
        ],
        [
         "44",
         "77",
         "Female",
         "Average",
         "UG",
         "No"
        ],
        [
         "12",
         "51",
         "Male",
         "Poor",
         "School",
         "No"
        ],
        [
         "41",
         "23",
         "Male",
         "Good",
         "PG",
         "Yes"
        ],
        [
         "11",
         "74",
         "Male",
         "Good",
         "UG",
         "Yes"
        ],
        [
         "43",
         "27",
         "Male",
         "Poor",
         "PG",
         "No"
        ],
        [
         "39",
         "76",
         "Male",
         "Poor",
         "PG",
         "No"
        ],
        [
         "35",
         "74",
         "Male",
         "Poor",
         "School",
         "Yes"
        ],
        [
         "32",
         "92",
         "Male",
         "Average",
         "UG",
         "Yes"
        ]
       ],
       "shape": {
        "columns": 5,
        "rows": 10
       }
      },
      "text/html": [
       "<div>\n",
       "<style scoped>\n",
       "    .dataframe tbody tr th:only-of-type {\n",
       "        vertical-align: middle;\n",
       "    }\n",
       "\n",
       "    .dataframe tbody tr th {\n",
       "        vertical-align: top;\n",
       "    }\n",
       "\n",
       "    .dataframe thead th {\n",
       "        text-align: right;\n",
       "    }\n",
       "</style>\n",
       "<table border=\"1\" class=\"dataframe\">\n",
       "  <thead>\n",
       "    <tr style=\"text-align: right;\">\n",
       "      <th></th>\n",
       "      <th>age</th>\n",
       "      <th>gender</th>\n",
       "      <th>review</th>\n",
       "      <th>education</th>\n",
       "      <th>purchased</th>\n",
       "    </tr>\n",
       "  </thead>\n",
       "  <tbody>\n",
       "    <tr>\n",
       "      <th>1</th>\n",
       "      <td>68</td>\n",
       "      <td>Female</td>\n",
       "      <td>Poor</td>\n",
       "      <td>UG</td>\n",
       "      <td>No</td>\n",
       "    </tr>\n",
       "    <tr>\n",
       "      <th>33</th>\n",
       "      <td>89</td>\n",
       "      <td>Female</td>\n",
       "      <td>Good</td>\n",
       "      <td>PG</td>\n",
       "      <td>Yes</td>\n",
       "    </tr>\n",
       "    <tr>\n",
       "      <th>44</th>\n",
       "      <td>77</td>\n",
       "      <td>Female</td>\n",
       "      <td>Average</td>\n",
       "      <td>UG</td>\n",
       "      <td>No</td>\n",
       "    </tr>\n",
       "    <tr>\n",
       "      <th>12</th>\n",
       "      <td>51</td>\n",
       "      <td>Male</td>\n",
       "      <td>Poor</td>\n",
       "      <td>School</td>\n",
       "      <td>No</td>\n",
       "    </tr>\n",
       "    <tr>\n",
       "      <th>41</th>\n",
       "      <td>23</td>\n",
       "      <td>Male</td>\n",
       "      <td>Good</td>\n",
       "      <td>PG</td>\n",
       "      <td>Yes</td>\n",
       "    </tr>\n",
       "    <tr>\n",
       "      <th>11</th>\n",
       "      <td>74</td>\n",
       "      <td>Male</td>\n",
       "      <td>Good</td>\n",
       "      <td>UG</td>\n",
       "      <td>Yes</td>\n",
       "    </tr>\n",
       "    <tr>\n",
       "      <th>43</th>\n",
       "      <td>27</td>\n",
       "      <td>Male</td>\n",
       "      <td>Poor</td>\n",
       "      <td>PG</td>\n",
       "      <td>No</td>\n",
       "    </tr>\n",
       "    <tr>\n",
       "      <th>39</th>\n",
       "      <td>76</td>\n",
       "      <td>Male</td>\n",
       "      <td>Poor</td>\n",
       "      <td>PG</td>\n",
       "      <td>No</td>\n",
       "    </tr>\n",
       "    <tr>\n",
       "      <th>35</th>\n",
       "      <td>74</td>\n",
       "      <td>Male</td>\n",
       "      <td>Poor</td>\n",
       "      <td>School</td>\n",
       "      <td>Yes</td>\n",
       "    </tr>\n",
       "    <tr>\n",
       "      <th>32</th>\n",
       "      <td>92</td>\n",
       "      <td>Male</td>\n",
       "      <td>Average</td>\n",
       "      <td>UG</td>\n",
       "      <td>Yes</td>\n",
       "    </tr>\n",
       "  </tbody>\n",
       "</table>\n",
       "</div>"
      ],
      "text/plain": [
       "    age  gender   review education purchased\n",
       "1    68  Female     Poor        UG        No\n",
       "33   89  Female     Good        PG       Yes\n",
       "44   77  Female  Average        UG        No\n",
       "12   51    Male     Poor    School        No\n",
       "41   23    Male     Good        PG       Yes\n",
       "11   74    Male     Good        UG       Yes\n",
       "43   27    Male     Poor        PG        No\n",
       "39   76    Male     Poor        PG        No\n",
       "35   74    Male     Poor    School       Yes\n",
       "32   92    Male  Average        UG       Yes"
      ]
     },
     "execution_count": 4,
     "metadata": {},
     "output_type": "execute_result"
    }
   ],
   "source": [
    "df.sample(10)"
   ]
  },
  {
   "cell_type": "markdown",
   "id": "3ea725dc",
   "metadata": {},
   "source": [
    "* we will only use review adn education and purchased columns*  \n",
    "    * review and education -->oridnal enncdoing \n",
    "    * purchased --> lable encoding  "
   ]
  },
  {
   "cell_type": "code",
   "execution_count": 5,
   "id": "2cc1f7a0",
   "metadata": {},
   "outputs": [
    {
     "data": {
      "application/vnd.microsoft.datawrangler.viewer.v0+json": {
       "columns": [
        {
         "name": "index",
         "rawType": "int64",
         "type": "integer"
        },
        {
         "name": "age",
         "rawType": "int64",
         "type": "integer"
        },
        {
         "name": "gender",
         "rawType": "object",
         "type": "string"
        },
        {
         "name": "review",
         "rawType": "object",
         "type": "string"
        },
        {
         "name": "education",
         "rawType": "object",
         "type": "string"
        },
        {
         "name": "purchased",
         "rawType": "object",
         "type": "string"
        }
       ],
       "ref": "5a2b59b0-038b-4179-a9d0-401c7984a1c7",
       "rows": [
        [
         "0",
         "30",
         "Female",
         "Average",
         "School",
         "No"
        ],
        [
         "1",
         "68",
         "Female",
         "Poor",
         "UG",
         "No"
        ],
        [
         "2",
         "70",
         "Female",
         "Good",
         "PG",
         "No"
        ],
        [
         "3",
         "72",
         "Female",
         "Good",
         "PG",
         "No"
        ],
        [
         "4",
         "16",
         "Female",
         "Average",
         "UG",
         "No"
        ]
       ],
       "shape": {
        "columns": 5,
        "rows": 5
       }
      },
      "text/html": [
       "<div>\n",
       "<style scoped>\n",
       "    .dataframe tbody tr th:only-of-type {\n",
       "        vertical-align: middle;\n",
       "    }\n",
       "\n",
       "    .dataframe tbody tr th {\n",
       "        vertical-align: top;\n",
       "    }\n",
       "\n",
       "    .dataframe thead th {\n",
       "        text-align: right;\n",
       "    }\n",
       "</style>\n",
       "<table border=\"1\" class=\"dataframe\">\n",
       "  <thead>\n",
       "    <tr style=\"text-align: right;\">\n",
       "      <th></th>\n",
       "      <th>age</th>\n",
       "      <th>gender</th>\n",
       "      <th>review</th>\n",
       "      <th>education</th>\n",
       "      <th>purchased</th>\n",
       "    </tr>\n",
       "  </thead>\n",
       "  <tbody>\n",
       "    <tr>\n",
       "      <th>0</th>\n",
       "      <td>30</td>\n",
       "      <td>Female</td>\n",
       "      <td>Average</td>\n",
       "      <td>School</td>\n",
       "      <td>No</td>\n",
       "    </tr>\n",
       "    <tr>\n",
       "      <th>1</th>\n",
       "      <td>68</td>\n",
       "      <td>Female</td>\n",
       "      <td>Poor</td>\n",
       "      <td>UG</td>\n",
       "      <td>No</td>\n",
       "    </tr>\n",
       "    <tr>\n",
       "      <th>2</th>\n",
       "      <td>70</td>\n",
       "      <td>Female</td>\n",
       "      <td>Good</td>\n",
       "      <td>PG</td>\n",
       "      <td>No</td>\n",
       "    </tr>\n",
       "    <tr>\n",
       "      <th>3</th>\n",
       "      <td>72</td>\n",
       "      <td>Female</td>\n",
       "      <td>Good</td>\n",
       "      <td>PG</td>\n",
       "      <td>No</td>\n",
       "    </tr>\n",
       "    <tr>\n",
       "      <th>4</th>\n",
       "      <td>16</td>\n",
       "      <td>Female</td>\n",
       "      <td>Average</td>\n",
       "      <td>UG</td>\n",
       "      <td>No</td>\n",
       "    </tr>\n",
       "  </tbody>\n",
       "</table>\n",
       "</div>"
      ],
      "text/plain": [
       "   age  gender   review education purchased\n",
       "0   30  Female  Average    School        No\n",
       "1   68  Female     Poor        UG        No\n",
       "2   70  Female     Good        PG        No\n",
       "3   72  Female     Good        PG        No\n",
       "4   16  Female  Average        UG        No"
      ]
     },
     "execution_count": 5,
     "metadata": {},
     "output_type": "execute_result"
    }
   ],
   "source": [
    "df.head()"
   ]
  },
  {
   "cell_type": "code",
   "execution_count": null,
   "id": "70a226a7",
   "metadata": {},
   "outputs": [],
   "source": [
    "from sklearn.model_selection import train_test_split\n",
    "X_train, X_test, Y_train, Y_test = train_test_split(df.iloc[:0:2]"
   ]
  }
 ],
 "metadata": {
  "kernelspec": {
   "display_name": "base",
   "language": "python",
   "name": "python3"
  },
  "language_info": {
   "codemirror_mode": {
    "name": "ipython",
    "version": 3
   },
   "file_extension": ".py",
   "mimetype": "text/x-python",
   "name": "python",
   "nbconvert_exporter": "python",
   "pygments_lexer": "ipython3",
   "version": "3.13.5"
  }
 },
 "nbformat": 4,
 "nbformat_minor": 5
}
